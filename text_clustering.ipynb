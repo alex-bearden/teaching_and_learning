{
 "cells": [
  {
   "cell_type": "markdown",
   "id": "69d3c6e7",
   "metadata": {},
   "source": [
    "In this notebook, we implement several known algorithms for automatically selecting the optimal number of clusters for k-means clustering of an unlabeled dataset. The dataset that we use is a custom dataset of text snippets, which we built from four Kaggle datasets: it consists of summaries of BBC news articles about politics, random sentences from *Harry Potter and the Sorceror's Stone*, reviews of musical instruments from Amazon, and recipes posted on Reddit. The algorithms we implement are:\n",
    "1. The gap statistic method (with both methods for defining the reference distribution) from \"Estimating the number of clusters in a data set via the gap statistic\" by Tibshirani, Walther, and Hastie\n",
    "2. The AutoElbow method from \"AutoElbow: An automatic elbow detection method for estimating the number of clusters in a dataset\" by Onumanyi, Molokomme, Isaac, and Abu-Mahfouz\n",
    "3. The L-method from \"Determining the number of clusters/segments in hierarchical clustering/segmentation algorithms\" by Salvador and Chan.\n",
    "4. The Factionalization method from \"Introducing the \"factionalization method\" for identifying the inherent number of clusters in a dataset\" by Nett (although we stopped a little short on this one by not fitting a curve to the factionalization plot).\n",
    "\n",
    "The results were all over the place: the gap score method and factionalization method suggested that more clusters were better over the range we investigated (up to 20 for the former and 50 for the latter), the AutoElbow method suggested that 9 clusters were optimal, and the L-method gave 5 as the optimal number. It would be interesting to more deeply investigate the cause of the discrepancies, possibly by using a less noisy dataset."
   ]
  },
  {
   "cell_type": "code",
   "execution_count": 1,
   "id": "f9c2efb8",
   "metadata": {},
   "outputs": [],
   "source": [
    "import numpy as np\n",
    "import pandas as pd\n",
    "import matplotlib.pyplot as plt\n",
    "import seaborn as sns\n",
    "import sklearn\n",
    "import os, csv\n",
    "import random\n",
    "import nltk\n",
    "import re\n",
    "import string\n",
    "import collections\n",
    "#nltk.download('punkt')\n",
    "#nltk.download('wordnet')\n",
    "#nltk.download('omw-1.4')"
   ]
  },
  {
   "cell_type": "code",
   "execution_count": 2,
   "id": "44eac222",
   "metadata": {},
   "outputs": [],
   "source": [
    "bbc_politics_df = pd.DataFrame()\n",
    "bbc_dir = os.path.join('bbc_news_data', 'Summaries', 'politics')\n",
    "for file in os.listdir(bbc_dir):\n",
    "    file_path = os.path.join(bbc_dir, file)\n",
    "    with open(file_path) as f:\n",
    "        file_text = pd.DataFrame([f.read()], columns=[\"Text\"])\n",
    "        bbc_politics_df = pd.concat([bbc_politics_df, file_text], ignore_index=True)\n",
    "bbc_politics_df['Source'] = 'BBC'"
   ]
  },
  {
   "cell_type": "code",
   "execution_count": 3,
   "id": "9c5055b4",
   "metadata": {},
   "outputs": [],
   "source": [
    "# Randomly selects around 500 sentences from Harry Potter, Book 1.\n",
    "\n",
    "random.seed(4)\n",
    "sample_size = 500\n",
    "\n",
    "harry_potter_df = pd.DataFrame()\n",
    "hp1_path = os.path.join('harry_potter_data', 'Book1.txt')\n",
    "with open(hp1_path) as f:\n",
    "    sentences = nltk.tokenize.sent_tokenize(f.read())\n",
    "    for sentence in random.sample(sentences, sample_size):\n",
    "        if 'Rowling' in sentence: #Removes any sentence that contains the title/author header\n",
    "            continue\n",
    "        sentence = pd.DataFrame([sentence], columns=[\"Text\"])\n",
    "        harry_potter_df = pd.concat([harry_potter_df, sentence], ignore_index=True)\n",
    "harry_potter_df['Source'] = 'Harry Potter'"
   ]
  },
  {
   "cell_type": "code",
   "execution_count": 4,
   "id": "a43ef5bd",
   "metadata": {},
   "outputs": [],
   "source": [
    "# Randomly selects 500 sentences from the Amazon musical instruments reviews dataset.\n",
    "\n",
    "num_reviews = 10261\n",
    "sample_size = 500\n",
    "random.seed(9)\n",
    "skipped_rows = random.sample(range(1, num_reviews), num_reviews - sample_size)\n",
    "\n",
    "amazon_instruments_path = os.path.join('musical_instruments_amazon_data',\n",
    "                                      'Musical_instruments_reviews.csv')\n",
    "amazon_instruments_df = pd.read_csv(amazon_instruments_path, skiprows=skipped_rows)\n",
    "amazon_instruments_df = amazon_instruments_df.rename(columns={'reviewText': 'Text'})\n",
    "amazon_instruments_df['Source'] = 'Amazon'\n",
    "amazon_instruments_df.dropna(inplace=True);"
   ]
  },
  {
   "cell_type": "code",
   "execution_count": 5,
   "id": "ec2720bc",
   "metadata": {},
   "outputs": [],
   "source": [
    "reddit_recipes_path = os.path.join('recipes_reddit_data', 'Recipes.csv')\n",
    "reddit_recipes_df = pd.read_csv(reddit_recipes_path, encoding_errors='ignore')\n",
    "reddit_recipes_df = reddit_recipes_df.rename(columns={'comment': 'Text'})\n",
    "reddit_recipes_df['Source'] = 'Reddit'"
   ]
  },
  {
   "cell_type": "code",
   "execution_count": 6,
   "id": "744b6969",
   "metadata": {},
   "outputs": [],
   "source": [
    "text_df = pd.concat([\n",
    "    bbc_politics_df,\n",
    "    harry_potter_df,\n",
    "    amazon_instruments_df[['Text', 'Source']],\n",
    "    reddit_recipes_df[['Text', 'Source']]\n",
    "], axis=0, ignore_index=True)"
   ]
  },
  {
   "cell_type": "code",
   "execution_count": 7,
   "id": "3c292cce",
   "metadata": {},
   "outputs": [
    {
     "data": {
      "text/html": [
       "<div>\n",
       "<style scoped>\n",
       "    .dataframe tbody tr th:only-of-type {\n",
       "        vertical-align: middle;\n",
       "    }\n",
       "\n",
       "    .dataframe tbody tr th {\n",
       "        vertical-align: top;\n",
       "    }\n",
       "\n",
       "    .dataframe thead th {\n",
       "        text-align: right;\n",
       "    }\n",
       "</style>\n",
       "<table border=\"1\" class=\"dataframe\">\n",
       "  <thead>\n",
       "    <tr style=\"text-align: right;\">\n",
       "      <th></th>\n",
       "      <th>Text</th>\n",
       "      <th>Source</th>\n",
       "    </tr>\n",
       "  </thead>\n",
       "  <tbody>\n",
       "    <tr>\n",
       "      <th>0</th>\n",
       "      <td>Former Labour leader Neil Kinnock has official...</td>\n",
       "      <td>BBC</td>\n",
       "    </tr>\n",
       "    <tr>\n",
       "      <th>1</th>\n",
       "      <td>It claims Mr Blair said in November 2003 he wo...</td>\n",
       "      <td>BBC</td>\n",
       "    </tr>\n",
       "    <tr>\n",
       "      <th>2</th>\n",
       "      <td>Mr Bannatyne has previously given Labour £50,0...</td>\n",
       "      <td>BBC</td>\n",
       "    </tr>\n",
       "    <tr>\n",
       "      <th>3</th>\n",
       "      <td>\"How is it that peace has not arrived?,\" the c...</td>\n",
       "      <td>BBC</td>\n",
       "    </tr>\n",
       "    <tr>\n",
       "      <th>4</th>\n",
       "      <td>Mr Griffin is the twelfth man to be arrested f...</td>\n",
       "      <td>BBC</td>\n",
       "    </tr>\n",
       "    <tr>\n",
       "      <th>417</th>\n",
       "      <td>He \\nremembered being picked for teams during ...</td>\n",
       "      <td>Harry Potter</td>\n",
       "    </tr>\n",
       "    <tr>\n",
       "      <th>418</th>\n",
       "      <td>I’ve been out here for \\nhours, I couldn’t rem...</td>\n",
       "      <td>Harry Potter</td>\n",
       "    </tr>\n",
       "    <tr>\n",
       "      <th>419</th>\n",
       "      <td>“A what?” said Harry, interested.</td>\n",
       "      <td>Harry Potter</td>\n",
       "    </tr>\n",
       "    <tr>\n",
       "      <th>420</th>\n",
       "      <td>Maybe he \\nwas imagining it, maybe not, but he...</td>\n",
       "      <td>Harry Potter</td>\n",
       "    </tr>\n",
       "    <tr>\n",
       "      <th>421</th>\n",
       "      <td>That’ll take a lot of explaining.” \\n\\nHermion...</td>\n",
       "      <td>Harry Potter</td>\n",
       "    </tr>\n",
       "    <tr>\n",
       "      <th>883</th>\n",
       "      <td>Sturdy cord and plugs, inexpensive, good value...</td>\n",
       "      <td>Amazon</td>\n",
       "    </tr>\n",
       "    <tr>\n",
       "      <th>884</th>\n",
       "      <td>This Hosa Cable is very well made, with good q...</td>\n",
       "      <td>Amazon</td>\n",
       "    </tr>\n",
       "    <tr>\n",
       "      <th>885</th>\n",
       "      <td>Hosa guitar cables work great. Never had any p...</td>\n",
       "      <td>Amazon</td>\n",
       "    </tr>\n",
       "    <tr>\n",
       "      <th>886</th>\n",
       "      <td>This item is well built and I like the termina...</td>\n",
       "      <td>Amazon</td>\n",
       "    </tr>\n",
       "    <tr>\n",
       "      <th>887</th>\n",
       "      <td>Hosa cable quality can be all over the place, ...</td>\n",
       "      <td>Amazon</td>\n",
       "    </tr>\n",
       "    <tr>\n",
       "      <th>1382</th>\n",
       "      <td>This is by no means \"authentic\" tiramisu in th...</td>\n",
       "      <td>Reddit</td>\n",
       "    </tr>\n",
       "    <tr>\n",
       "      <th>1383</th>\n",
       "      <td>Thank you for the great idea, u/oliveyoil!\\r\\n...</td>\n",
       "      <td>Reddit</td>\n",
       "    </tr>\n",
       "    <tr>\n",
       "      <th>1384</th>\n",
       "      <td>**Homemade Cinnamon Rolls**\\r\\n\\r\\nLayers of s...</td>\n",
       "      <td>Reddit</td>\n",
       "    </tr>\n",
       "    <tr>\n",
       "      <th>1385</th>\n",
       "      <td>\\r\\n\\r\\nOne of my favorite at home dessert re...</td>\n",
       "      <td>Reddit</td>\n",
       "    </tr>\n",
       "    <tr>\n",
       "      <th>1386</th>\n",
       "      <td>I am obsessed with making different ramen dish...</td>\n",
       "      <td>Reddit</td>\n",
       "    </tr>\n",
       "  </tbody>\n",
       "</table>\n",
       "</div>"
      ],
      "text/plain": [
       "                                                   Text        Source\n",
       "0     Former Labour leader Neil Kinnock has official...           BBC\n",
       "1     It claims Mr Blair said in November 2003 he wo...           BBC\n",
       "2     Mr Bannatyne has previously given Labour £50,0...           BBC\n",
       "3     \"How is it that peace has not arrived?,\" the c...           BBC\n",
       "4     Mr Griffin is the twelfth man to be arrested f...           BBC\n",
       "417   He \\nremembered being picked for teams during ...  Harry Potter\n",
       "418   I’ve been out here for \\nhours, I couldn’t rem...  Harry Potter\n",
       "419                   “A what?” said Harry, interested.  Harry Potter\n",
       "420   Maybe he \\nwas imagining it, maybe not, but he...  Harry Potter\n",
       "421   That’ll take a lot of explaining.” \\n\\nHermion...  Harry Potter\n",
       "883   Sturdy cord and plugs, inexpensive, good value...        Amazon\n",
       "884   This Hosa Cable is very well made, with good q...        Amazon\n",
       "885   Hosa guitar cables work great. Never had any p...        Amazon\n",
       "886   This item is well built and I like the termina...        Amazon\n",
       "887   Hosa cable quality can be all over the place, ...        Amazon\n",
       "1382  This is by no means \"authentic\" tiramisu in th...        Reddit\n",
       "1383  Thank you for the great idea, u/oliveyoil!\\r\\n...        Reddit\n",
       "1384  **Homemade Cinnamon Rolls**\\r\\n\\r\\nLayers of s...        Reddit\n",
       "1385   \\r\\n\\r\\nOne of my favorite at home dessert re...        Reddit\n",
       "1386  I am obsessed with making different ramen dish...        Reddit"
      ]
     },
     "execution_count": 7,
     "metadata": {},
     "output_type": "execute_result"
    }
   ],
   "source": [
    "sample = pd.concat([text_df[text_df['Source'] == 'BBC'][:5],\n",
    "                   text_df[text_df['Source'] == 'Harry Potter'][:5],\n",
    "                   text_df[text_df['Source'] == 'Amazon'][:5],\n",
    "                   text_df[text_df['Source'] == 'Reddit'][:5]])\n",
    "sample"
   ]
  },
  {
   "cell_type": "code",
   "execution_count": 8,
   "id": "d96378bc",
   "metadata": {},
   "outputs": [
    {
     "name": "stdout",
     "output_type": "stream",
     "text": [
      "<class 'pandas.core.frame.DataFrame'>\n",
      "RangeIndex: 2300 entries, 0 to 2299\n",
      "Data columns (total 2 columns):\n",
      " #   Column  Non-Null Count  Dtype \n",
      "---  ------  --------------  ----- \n",
      " 0   Text    2300 non-null   object\n",
      " 1   Source  2300 non-null   object\n",
      "dtypes: object(2)\n",
      "memory usage: 36.1+ KB\n"
     ]
    }
   ],
   "source": [
    "text_df.info()"
   ]
  },
  {
   "cell_type": "code",
   "execution_count": 9,
   "id": "0df5fc55",
   "metadata": {},
   "outputs": [],
   "source": [
    "\"\"\"A simple tokenizer for data preprocessing.\"\"\"\n",
    "\n",
    "from nltk.stem.wordnet import WordNetLemmatizer\n",
    "\n",
    "def tokenizer(text):\n",
    "    \"\"\"\n",
    "    Tokenizes text by making everything lowercase, removing punctuation and unallowed symbols,\n",
    "    removing any non-ascii code, and lemmatizing words.\n",
    "    \"\"\"\n",
    "    text = text.lower()\n",
    "    unallowed = '0-9\\r\\t\\n'\n",
    "    regex = re.compile(r'[' + re.escape(string.punctuation) + unallowed +']')\n",
    "    nopunct = regex.sub(' ', text)\n",
    "    words = nopunct.split(' ')\n",
    "    words = [word.encode('ascii', 'ignore').decode('ascii') for word in words]\n",
    "    lemmatizer = WordNetLemmatizer()\n",
    "    words = [lemmatizer.lemmatize(word) for word in words]\n",
    "    words = [word for word in words if len(word) > 2]\n",
    "    return words"
   ]
  },
  {
   "cell_type": "code",
   "execution_count": 10,
   "id": "b85ef22d",
   "metadata": {},
   "outputs": [
    {
     "data": {
      "text/plain": [
       "(2300, 20000)"
      ]
     },
     "execution_count": 10,
     "metadata": {},
     "output_type": "execute_result"
    }
   ],
   "source": [
    "\"\"\"Vectorizes the text snippets.\"\"\"\n",
    "\n",
    "from sklearn.feature_extraction.text import TfidfVectorizer\n",
    "\n",
    "kwargs = {\n",
    "    'strip_accents': 'unicode',\n",
    "    'decode_error': 'replace',\n",
    "    'analyzer': 'word',\n",
    "    'tokenizer': tokenizer,\n",
    "    'max_features': 20000,\n",
    "    'ngram_range': (1,2),\n",
    "    'stop_words': 'english',\n",
    "}\n",
    "\n",
    "vectorizer = TfidfVectorizer(**kwargs)\n",
    "text_df_v = vectorizer.fit_transform(text_df['Text'])\n",
    "\n",
    "text_df_v.shape"
   ]
  },
  {
   "cell_type": "code",
   "execution_count": 11,
   "id": "21c7cb4c",
   "metadata": {},
   "outputs": [],
   "source": [
    "from sklearn.cluster import KMeans\n",
    "from sklearn.metrics import silhouette_score\n",
    "\n",
    "def get_clustering_scores(df, max_num_clusters):\n",
    "    Scores = collections.namedtuple('scores', ['inertia', 'silhouette'])\n",
    "    scores = Scores([],[])\n",
    "    for k in range(1, max_num_clusters + 1):\n",
    "        kmeans = KMeans(n_clusters=k, random_state=12)\n",
    "        kmeans.fit(df)\n",
    "        scores.inertia.append(kmeans.inertia_)\n",
    "        if k >= 2:\n",
    "            scores.silhouette.append(silhouette_score(df, kmeans.labels_))\n",
    "    return scores"
   ]
  },
  {
   "cell_type": "code",
   "execution_count": 12,
   "id": "fee9d82e",
   "metadata": {},
   "outputs": [
    {
     "name": "stdout",
     "output_type": "stream",
     "text": [
      "CPU times: user 2min 2s, sys: 9.61 s, total: 2min 12s\n",
      "Wall time: 47.2 s\n"
     ]
    }
   ],
   "source": [
    "%%time\n",
    "\n",
    "max_num_clusters = 20\n",
    "scores = get_clustering_scores(text_df_v, max_num_clusters)"
   ]
  },
  {
   "cell_type": "code",
   "execution_count": 13,
   "id": "a60726db",
   "metadata": {},
   "outputs": [
    {
     "data": {
      "image/png": "[encoded data removed]",
      "text/plain": [
       "<Figure size 432x288 with 1 Axes>"
      ]
     },
     "metadata": {
      "needs_background": "light"
     },
     "output_type": "display_data"
    }
   ],
   "source": [
    "plt.plot(range(1, max_num_clusters + 1), scores.inertia, marker = '.');\n",
    "plt.xticks(ticks=range(1, max_num_clusters + 1), labels=range(1, max_num_clusters + 1));\n",
    "plt.xlabel(\"Number of Clusters\");\n",
    "plt.ylabel(\"Inertia\");\n",
    "plt.title(\"Inertia Plot\");"
   ]
  },
  {
   "cell_type": "code",
   "execution_count": 14,
   "id": "08b63783",
   "metadata": {},
   "outputs": [
    {
     "data": {
      "image/png": "[encoded data removed]",
      "text/plain": [
       "<Figure size 432x288 with 1 Axes>"
      ]
     },
     "metadata": {
      "needs_background": "light"
     },
     "output_type": "display_data"
    }
   ],
   "source": [
    "plt.plot(range(2, max_num_clusters + 1), scores.silhouette, marker = '.');\n",
    "plt.xticks(ticks=range(1, max_num_clusters + 1), labels=range(1, max_num_clusters + 1));\n",
    "plt.xlabel(\"Number of Clusters\");\n",
    "plt.ylabel(\"Silhouette Score\");\n",
    "plt.title('Silhouette Plot');"
   ]
  },
  {
   "cell_type": "code",
   "execution_count": 169,
   "id": "47f44d9c",
   "metadata": {},
   "outputs": [
    {
     "name": "stdout",
     "output_type": "stream",
     "text": [
      "CPU times: user 43.2 s, sys: 1.32 s, total: 44.5 s\n",
      "Wall time: 45.4 s\n"
     ]
    }
   ],
   "source": [
    "%%time\n",
    "\"\"\"\n",
    "Generates B samples of shape arr.shape, where each entry is chosen from a uniform\n",
    "distribution over the range of observed values in that column of arr.\n",
    "\n",
    "Input: numpy array\n",
    "Output: numpy array of shape (B, arr.shape[0], arr.shape[1])\n",
    "\"\"\"\n",
    "def generate_reference_data(arr, B):\n",
    "    col_ranges = [(0,0)] * arr.shape[1]\n",
    "    for j in range(arr.shape[1]):\n",
    "        col_min, col_max = arr[:, j].min(), arr[:, j].max()\n",
    "        col_ranges[j] = (col_min, col_max)\n",
    "    output = np.zeros((B, arr.shape[0], arr.shape[1]))\n",
    "    for b in range(B):\n",
    "        for j in range(arr.shape[1]):\n",
    "            low = col_ranges[j][0]\n",
    "            high = col_ranges[j][1]\n",
    "            output[b,:,j] = np.random.uniform(low, high, size=arr.shape[0])\n",
    "    return output\n",
    "\n",
    "ref_data = generate_reference_data(text_df_v, 5)"
   ]
  },
  {
   "cell_type": "code",
   "execution_count": 170,
   "id": "4352fe43",
   "metadata": {},
   "outputs": [],
   "source": [
    "# Computes the expected value and estimated variance for the log of inertia for a\n",
    "# k-clustering using a reference dataset consisting of B simulated samples.\n",
    "\n",
    "def get_log_inertia_stats(k, ref_data, B):\n",
    "    log_inertias = []\n",
    "    for b in range(B):\n",
    "        print(\"b = \", b, end=\" \")\n",
    "        kmeans_ref = KMeans(n_clusters=k, random_state=12)\n",
    "        kmeans_ref.fit(ref_data[b])\n",
    "        log_inertias.append(np.log(kmeans_ref.inertia_))\n",
    "    print(\"k = \", k, \": Done.\")\n",
    "    return (np.mean(log_inertias), np.std(log_inertias)*np.sqrt(1 + 1/20))"
   ]
  },
  {
   "cell_type": "code",
   "execution_count": 17,
   "id": "f6f6a5ec",
   "metadata": {},
   "outputs": [
    {
     "name": "stdout",
     "output_type": "stream",
     "text": [
      "b =  0 b =  1 b =  2 b =  3 b =  4 k =  1 : Done.\n",
      "b =  0 b =  1 b =  2 b =  3 b =  4 k =  2 : Done.\n",
      "b =  0 b =  1 b =  2 b =  3 b =  4 k =  3 : Done.\n",
      "b =  0 b =  1 b =  2 b =  3 b =  4 k =  4 : Done.\n",
      "b =  0 b =  1 b =  2 b =  3 b =  4 k =  5 : Done.\n",
      "b =  0 b =  1 b =  2 b =  3 b =  4 k =  6 : Done.\n",
      "b =  0 b =  1 b =  2 b =  3 b =  4 k =  7 : Done.\n",
      "b =  0 b =  1 b =  2 b =  3 b =  4 k =  8 : Done.\n",
      "b =  0 b =  1 b =  2 b =  3 b =  4 k =  9 : Done.\n",
      "b =  0 b =  1 b =  2 b =  3 b =  4 k =  10 : Done.\n",
      "b =  0 b =  1 b =  2 b =  3 b =  4 k =  11 : Done.\n",
      "b =  0 b =  1 b =  2 b =  3 b =  4 k =  12 : Done.\n",
      "b =  0 b =  1 b =  2 b =  3 b =  4 k =  13 : Done.\n",
      "b =  0 b =  1 b =  2 b =  3 b =  4 k =  14 : Done.\n",
      "b =  0 b =  1 b =  2 b =  3 b =  4 k =  15 : Done.\n",
      "b =  0 b =  1 b =  2 b =  3 b =  4 k =  16 : Done.\n",
      "b =  0 b =  1 b =  2 b =  3 b =  4 k =  17 : Done.\n",
      "b =  0 b =  1 b =  2 b =  3 b =  4 k =  18 : Done.\n",
      "b =  0 b =  1 b =  2 b =  3 b =  4 k =  19 : Done.\n",
      "b =  0 b =  1 b =  2 b =  3 b =  4 k =  20 : Done.\n",
      "CPU times: user 1h 23min 20s, sys: 1min 20s, total: 1h 24min 41s\n",
      "Wall time: 26min 19s\n"
     ]
    }
   ],
   "source": [
    "%%time\n",
    "\n",
    "log_inertia_stats = [] # Record of the stats from the simulation over different values of k.\n",
    "for k in range(1, max_num_clusters + 1):\n",
    "    log_inertia_stats.append(get_log_inertia_stats(k, ref_data, 5))"
   ]
  },
  {
   "cell_type": "code",
   "execution_count": 18,
   "id": "f91439fe",
   "metadata": {},
   "outputs": [
    {
     "data": {
      "text/plain": [
       "[(11.967753417720251, 0.0002049233789235363),\n",
       " (11.966498710013138, 0.00020641931866967176),\n",
       " (11.96564357791708, 0.00019521949815961312),\n",
       " (11.965080787574896, 0.00021108122016162554),\n",
       " (11.964541658515977, 0.00019231888526337186),\n",
       " (11.96406810006307, 0.0002049539359283045),\n",
       " (11.963517307607415, 0.0002186864815213315),\n",
       " (11.963044777635888, 0.00018486776896428173),\n",
       " (11.962528821086266, 0.00021289215086704185),\n",
       " (11.962035513806416, 0.00018905034886540365),\n",
       " (11.961513751050857, 0.000190889749800557),\n",
       " (11.961024044407988, 0.00020711665212229827),\n",
       " (11.960494478069325, 0.0001733268251479078),\n",
       " (11.959953902063642, 0.00018274380312017257),\n",
       " (11.95948421479694, 0.00020463920887662062),\n",
       " (11.958970653213308, 0.000191492220009119),\n",
       " (11.95845343708301, 0.00018673042317327718),\n",
       " (11.957928248156069, 0.00016304285921104196),\n",
       " (11.957429845796762, 0.0002241545113275136),\n",
       " (11.956949141003605, 0.00021611864507211888)]"
      ]
     },
     "execution_count": 18,
     "metadata": {},
     "output_type": "execute_result"
    }
   ],
   "source": [
    "log_inertia_stats"
   ]
  },
  {
   "cell_type": "code",
   "execution_count": 171,
   "id": "8eb80049",
   "metadata": {},
   "outputs": [
    {
     "name": "stdout",
     "output_type": "stream",
     "text": [
      "CPU times: user 40.2 s, sys: 2.13 s, total: 42.3 s\n",
      "Wall time: 24.5 s\n"
     ]
    }
   ],
   "source": [
    "%%time\n",
    "# Generates reference data uniformly distributed over a box aligned with the first 1000\n",
    "# principal components of the text_df_v data.\n",
    "\n",
    "from sklearn.decomposition import TruncatedSVD\n",
    "\n",
    "svd = TruncatedSVD(n_components=1000)\n",
    "text_df_v_svd = svd.fit_transform(text_df_v)\n",
    "ref_data_svd = np.array([svd.transform(ref_data[b]) for b in range(5)])"
   ]
  },
  {
   "cell_type": "code",
   "execution_count": 19,
   "id": "5dd1efc4",
   "metadata": {},
   "outputs": [
    {
     "name": "stdout",
     "output_type": "stream",
     "text": [
      "b =  0 b =  1 b =  2 b =  3 b =  4 k =  1 : Done.\n",
      "b =  0 b =  1 b =  2 b =  3 b =  4 k =  2 : Done.\n",
      "b =  0 b =  1 b =  2 b =  3 b =  4 k =  3 : Done.\n",
      "b =  0 b =  1 b =  2 b =  3 b =  4 k =  4 : Done.\n",
      "b =  0 b =  1 b =  2 b =  3 b =  4 k =  5 : Done.\n",
      "b =  0 b =  1 b =  2 b =  3 b =  4 k =  6 : Done.\n",
      "b =  0 b =  1 b =  2 b =  3 b =  4 k =  7 : Done.\n",
      "b =  0 b =  1 b =  2 b =  3 b =  4 k =  8 : Done.\n",
      "b =  0 b =  1 b =  2 b =  3 b =  4 k =  9 : Done.\n",
      "b =  0 b =  1 b =  2 b =  3 b =  4 k =  10 : Done.\n",
      "b =  0 b =  1 b =  2 b =  3 b =  4 k =  11 : Done.\n",
      "b =  0 b =  1 b =  2 b =  3 b =  4 k =  12 : Done.\n",
      "b =  0 b =  1 b =  2 b =  3 b =  4 k =  13 : Done.\n",
      "b =  0 b =  1 b =  2 b =  3 b =  4 k =  14 : Done.\n",
      "b =  0 b =  1 b =  2 b =  3 b =  4 k =  15 : Done.\n",
      "b =  0 b =  1 b =  2 b =  3 b =  4 k =  16 : Done.\n",
      "b =  0 b =  1 b =  2 b =  3 b =  4 k =  17 : Done.\n",
      "b =  0 b =  1 b =  2 b =  3 b =  4 k =  18 : Done.\n",
      "b =  0 b =  1 b =  2 b =  3 b =  4 k =  19 : Done.\n",
      "b =  0 b =  1 b =  2 b =  3 b =  4 k =  20 : Done.\n",
      "CPU times: user 9min 35s, sys: 11 s, total: 9min 46s\n",
      "Wall time: 2min 37s\n"
     ]
    }
   ],
   "source": [
    "%%time\n",
    "# Record of the stats from the svd simulation over different values of k.\n",
    "\n",
    "log_inertia_stats_svd = []\n",
    "for k in range(1, max_num_clusters + 1):\n",
    "    log_inertia_stats_svd.append(get_log_inertia_stats(k, ref_data_svd, 5))"
   ]
  },
  {
   "cell_type": "code",
   "execution_count": 20,
   "id": "fd547ef7",
   "metadata": {},
   "outputs": [],
   "source": [
    "# Graphs gap statistics with error bars given a list of reference mean log inertias\n",
    "# with SE estimates and observed log inertia.\n",
    "# Inputs: ref_info = list of tuples (mean_log_inertia, SE_log_inertia) for each cluster size,\n",
    "#         observed_info = list of inertias for each cluster size\n",
    "\n",
    "def graph_gaps(ref_info, observed_info, max_num_clusters):\n",
    "    gaps, errors = [], []\n",
    "    for i in range(max_num_clusters):\n",
    "        gaps.append(ref_info[i][0] - np.log(observed_info[i]))\n",
    "        errors.append(ref_info[i][1])\n",
    "    plt.errorbar(range(1, max_num_clusters + 1), gaps, yerr=errors);\n",
    "    plt.xticks(ticks=range(1, max_num_clusters + 1), labels=range(1, max_num_clusters + 1));\n",
    "    plt.xlabel(\"Number of Clusters\");\n",
    "    plt.ylabel(\"Gap Scores\");"
   ]
  },
  {
   "cell_type": "code",
   "execution_count": 48,
   "id": "05daecdc",
   "metadata": {},
   "outputs": [
    {
     "data": {
      "image/png": "[encoded data removed]",
      "text/plain": [
       "<Figure size 432x288 with 1 Axes>"
      ]
     },
     "metadata": {
      "needs_background": "light"
     },
     "output_type": "display_data"
    }
   ],
   "source": [
    "graph_gaps(log_inertia_stats, scores.inertia, 20)\n",
    "plt.title(\"Gap Score Plot (Uniform Reference)\");"
   ]
  },
  {
   "cell_type": "code",
   "execution_count": 21,
   "id": "513218f2",
   "metadata": {},
   "outputs": [
    {
     "data": {
      "image/png": "[encoded data removed]",
      "text/plain": [
       "<Figure size 432x288 with 1 Axes>"
      ]
     },
     "metadata": {
      "needs_background": "light"
     },
     "output_type": "display_data"
    }
   ],
   "source": [
    "graph_gaps(log_inertia_stats_svd, scores.inertia, 20)\n",
    "plt.title(\"Gap Score Plot (SVD-transformed Uniform Reference)\");"
   ]
  },
  {
   "cell_type": "code",
   "execution_count": 172,
   "id": "1bf001a3",
   "metadata": {},
   "outputs": [
    {
     "name": "stdout",
     "output_type": "stream",
     "text": [
      "Optimal k according to AutoElbow: 9\n"
     ]
    },
    {
     "data": {
      "image/png": "[encoded data removed]",
      "text/plain": [
       "<Figure size 432x288 with 1 Axes>"
      ]
     },
     "metadata": {
      "needs_background": "light"
     },
     "output_type": "display_data"
    }
   ],
   "source": [
    "\"\"\"Now, onto the AutoElbow algorithm.\"\"\"\n",
    "\n",
    "inertias = np.array(scores.inertia)\n",
    "inertias_norm = (inertias - inertias.min()) / (inertias.max() - inertias.min())\n",
    "for i in range(1, len(inertias)):\n",
    "    if inertias_norm[i] > inertias_norm[i-1]:\n",
    "        inertias_norm[i] = inertias_norm[i+1]\n",
    "\n",
    "num_clusters_norm = np.linspace(0, 1 ,20)\n",
    "\n",
    "auto_elbow_scores = []\n",
    "for k in range(max_num_clusters):\n",
    "    Q = np.array([1,1])\n",
    "    g = np.array([num_clusters_norm[k], inertias_norm[k]])\n",
    "    b = np.linalg.norm(g - Q)**2\n",
    "    a = np.linalg.norm(g)**2\n",
    "    c = inertias_norm[k]**2\n",
    "    auto_elbow_scores.append(b / (a + c))\n",
    "    \n",
    "plt.plot(np.arange(1, max_num_clusters+1), auto_elbow_scores);\n",
    "plt.xticks(ticks=range(1, max_num_clusters + 1), labels=range(1, max_num_clusters + 1));\n",
    "plt.xlabel(\"Number of Clusters\");\n",
    "plt.ylabel(\"AutoElbow Score\");\n",
    "plt.title(\"AutoElbow Plot\");\n",
    "print(\"Optimal k according to AutoElbow:\", np.argmax(auto_elbow_scores) + 1);"
   ]
  },
  {
   "cell_type": "code",
   "execution_count": 173,
   "id": "1d40c0e2",
   "metadata": {},
   "outputs": [
    {
     "name": "stdout",
     "output_type": "stream",
     "text": [
      "Optimal k according to the L-method: 5\n"
     ]
    },
    {
     "data": {
      "text/plain": [
       "array([20.27750562, 13.1787923 , 10.69282371, 10.3628302 , 11.36390618,\n",
       "       13.03541935, 14.31138264, 16.41141998, 18.75474335, 21.66190338,\n",
       "       24.87875206, 28.25308814, 32.02818423, 35.91343603, 40.14986067,\n",
       "       44.5145081 , 49.03938407])"
      ]
     },
     "execution_count": 173,
     "metadata": {},
     "output_type": "execute_result"
    }
   ],
   "source": [
    "\"\"\"Now, the L-method.\"\"\"\n",
    "\n",
    "from sklearn.linear_model import LinearRegression\n",
    "\n",
    "b = max_num_clusters\n",
    "rms_errors = np.zeros(b-3)\n",
    "for c in range(2, b - 1): # c is the number of points to include in the left line\n",
    "    left_line = LinearRegression().fit(np.arange(1, c+1).reshape(-1, 1), inertias[:c])\n",
    "    left_rmse = np.sqrt(((inertias[:c] - left_line.predict(np.arange(1, c+1).reshape(-1, 1)))**2).sum())\n",
    "    right_line = LinearRegression().fit(np.arange(c+1, b+1).reshape(-1, 1), inertias[c:b])\n",
    "    right_rmse = np.sqrt(((inertias[c:b] - right_line.predict(np.arange(c+1, b+1).reshape(-1, 1)))**2).sum())\n",
    "    rmse = ((c - 1) / (b - 1)) * left_rmse + ((b - c) / (b - 1)) * right_rmse\n",
    "    rms_errors[c-2] = rmse\n",
    "    \n",
    "print(\"Optimal k according to the L-method:\", rms_errors.argmin() + 2)\n",
    "rms_errors"
   ]
  },
  {
   "cell_type": "code",
   "execution_count": 174,
   "id": "95ffbea8",
   "metadata": {},
   "outputs": [],
   "source": [
    "# Finally, factionalization.\n",
    "\n",
    "def get_fac_scores(df, max_num_clusters):\n",
    "    factionalization_scores = np.zeros(max_num_clusters - 1)\n",
    "    for k in range(2, max_num_clusters + 1):\n",
    "        kmeans = KMeans(n_clusters=k, random_state=12).fit(df)\n",
    "        alpha = 0\n",
    "        for i in range(k):\n",
    "            for x in df[kmeans.labels_ == i]:\n",
    "                alpha += np.linalg.norm(x - kmeans.cluster_centers_[i])\n",
    "        beta = 0\n",
    "        for i in range(k):\n",
    "            for x in df[kmeans.labels_ == i]:\n",
    "                for j in range(k):\n",
    "                    if j == i:\n",
    "                        continue\n",
    "                    else:\n",
    "                        beta += (1 / np.linalg.norm(x - kmeans.cluster_centers_[j]))\n",
    "        beta /= k - 1\n",
    "        factionalization_scores[k-2] = 1 / (alpha + beta)\n",
    "        print('k =', k, ': Done.')\n",
    "    return factionalization_scores"
   ]
  },
  {
   "cell_type": "code",
   "execution_count": 118,
   "id": "b19da011",
   "metadata": {},
   "outputs": [
    {
     "name": "stdout",
     "output_type": "stream",
     "text": [
      "k = 2 : Done.\n",
      "k = 3 : Done.\n",
      "k = 4 : Done.\n",
      "k = 5 : Done.\n",
      "k = 6 : Done.\n",
      "k = 7 : Done.\n",
      "k = 8 : Done.\n",
      "k = 9 : Done.\n",
      "k = 10 : Done.\n",
      "k = 11 : Done.\n",
      "k = 12 : Done.\n",
      "k = 13 : Done.\n",
      "k = 14 : Done.\n",
      "k = 15 : Done.\n",
      "k = 16 : Done.\n",
      "k = 17 : Done.\n",
      "k = 18 : Done.\n",
      "k = 19 : Done.\n",
      "k = 20 : Done.\n",
      "k = 21 : Done.\n",
      "k = 22 : Done.\n",
      "k = 23 : Done.\n",
      "k = 24 : Done.\n",
      "k = 25 : Done.\n",
      "k = 26 : Done.\n",
      "k = 27 : Done.\n",
      "k = 28 : Done.\n",
      "k = 29 : Done.\n",
      "k = 30 : Done.\n",
      "k = 31 : Done.\n",
      "k = 32 : Done.\n",
      "k = 33 : Done.\n",
      "k = 34 : Done.\n",
      "k = 35 : Done.\n",
      "k = 36 : Done.\n",
      "k = 37 : Done.\n",
      "k = 38 : Done.\n",
      "k = 39 : Done.\n",
      "k = 40 : Done.\n",
      "k = 41 : Done.\n",
      "k = 42 : Done.\n",
      "k = 43 : Done.\n",
      "k = 44 : Done.\n",
      "k = 45 : Done.\n",
      "k = 46 : Done.\n",
      "k = 47 : Done.\n",
      "k = 48 : Done.\n",
      "k = 49 : Done.\n",
      "k = 50 : Done.\n"
     ]
    }
   ],
   "source": [
    "fac_scores = get_fac_scores(text_df_v, 50)"
   ]
  },
  {
   "cell_type": "code",
   "execution_count": 121,
   "id": "59fc2efd",
   "metadata": {},
   "outputs": [
    {
     "data": {
      "image/png": "[encoded data removed]",
      "text/plain": [
       "<Figure size 432x288 with 1 Axes>"
      ]
     },
     "metadata": {
      "needs_background": "light"
     },
     "output_type": "display_data"
    }
   ],
   "source": [
    "max_num_clusters = 50\n",
    "plt.plot(np.arange(2, max_num_clusters+1), fac_scores, marker='.');\n",
    "plt.xticks(ticks=range(2, max_num_clusters + 1, 2), labels=range(2, max_num_clusters + 1, 2));\n",
    "plt.xlabel(\"Number of Clusters\");\n",
    "plt.ylabel(\"Factionalization Score\");\n",
    "plt.title(\"Factionalization Plot\");\n",
    "#print(\"Optimal k according to Factionalization Method:\", np.argmax(auto_elbow_scores) + 1);"
   ]
  },
  {
   "cell_type": "code",
   "execution_count": 47,
   "id": "43109477",
   "metadata": {},
   "outputs": [
    {
     "name": "stdout",
     "output_type": "stream",
     "text": [
      "Proportion of cluster 0 from source BBC:  0.027860696517412936\n",
      "Proportion of cluster 0 from source Harry Potter:  0.4218905472636816\n",
      "Proportion of cluster 0 from source Amazon:  0.4955223880597015\n",
      "Proportion of cluster 0 from source Reddit:  0.05472636815920398\n",
      "\n",
      "Proportion of cluster 1 from source BBC:  0.9025522041763341\n",
      "Proportion of cluster 1 from source Harry Potter:  0.0951276102088167\n",
      "Proportion of cluster 1 from source Amazon:  0.002320185614849188\n",
      "Proportion of cluster 1 from source Reddit:  0.0\n",
      "\n",
      "Proportion of cluster 2 from source BBC:  0.0\n",
      "Proportion of cluster 2 from source Harry Potter:  0.001876172607879925\n",
      "Proportion of cluster 2 from source Amazon:  0.0\n",
      "Proportion of cluster 2 from source Reddit:  0.99812382739212\n",
      "\n",
      "Proportion of cluster 3 from source BBC:  0.0\n",
      "Proportion of cluster 3 from source Harry Potter:  0.0\n",
      "Proportion of cluster 3 from source Amazon:  0.0\n",
      "Proportion of cluster 3 from source Reddit:  1.0\n",
      "\n"
     ]
    }
   ],
   "source": [
    "\"\"\"We now see how well-aligned a four-clustering is with the known document sources.\"\"\"\n",
    "\n",
    "kmeans = KMeans(n_clusters=4, random_state=12).fit(text_df_v)\n",
    "\n",
    "for k in range(4):\n",
    "    for source in text_df['Source'].unique():\n",
    "        source_k_count = np.sum((text_df['Source'] == source) & (kmeans.labels_ == k))\n",
    "        k_count = np.sum((kmeans.labels_ == k))\n",
    "        proportion = source_k_count / k_count\n",
    "        print(f\"Proportion of cluster {k} from source {source}: \", proportion)\n",
    "    print('')"
   ]
  },
  {
   "cell_type": "code",
   "execution_count": 72,
   "id": "ec934f0b",
   "metadata": {},
   "outputs": [
    {
     "name": "stdout",
     "output_type": "stream",
     "text": [
      "BBC, cluster 0: \n",
      " 3     \"How is it that peace has not arrived?,\" the c...\n",
      "6     The ballot will ask residents to vote for or a...\n",
      "13    Downing Street has confirmed British troops ar...\n",
      "Name: Text, dtype: object\n",
      "\n",
      "Reddit, cluster 0: \n",
      " 1414    The simplest recipes are some of the hardest t...\n",
      "1434    **Recipe here originally:** [**Orange-Maple Ro...\n",
      "1562    Hi, folks! I'm hoping I can pick your brains a...\n",
      "Name: Text, dtype: object\n",
      "\n",
      "Harry Potter, cluster 0: \n",
      " 417    He \\nremembered being picked for teams during ...\n",
      "418    I’ve been out here for \\nhours, I couldn’t rem...\n",
      "420    Maybe he \\nwas imagining it, maybe not, but he...\n",
      "Name: Text, dtype: object\n",
      "\n",
      "Harry Potter, cluster 1: \n",
      " 419                    “A what?” said Harry, interested.\n",
      "422    Everyone says \\nHufflepuff are a lot o’ duffer...\n",
      "438                               “Is it true?” he said.\n",
      "Name: Text, dtype: object\n",
      "\n",
      "Amazon, cluster 1: \n",
      " 1090    Okay here we go again what can be said about t...\n",
      "Name: Text, dtype: object\n",
      "\n"
     ]
    }
   ],
   "source": [
    "\"\"\"Samples of interestingly-clustered documents.\"\"\"\n",
    "\n",
    "#pd.options.display.max_colwidth = 500\n",
    "\n",
    "print(\"BBC, cluster 0: \\n\", text_df[(text_df['Source'] == 'BBC') & (kmeans.labels_ == 0)][:3]['Text'])\n",
    "print('')\n",
    "print(\"Reddit, cluster 0: \\n\", text_df[(text_df['Source'] == 'Reddit') & (kmeans.labels_ == 0)][:3]['Text'])\n",
    "print('')\n",
    "print(\"Harry Potter, cluster 0: \\n\", text_df[(text_df['Source'] == 'Harry Potter') & (kmeans.labels_ == 0)][:3]['Text'])\n",
    "print('')\n",
    "print(\"Harry Potter, cluster 1: \\n\", text_df[(text_df['Source'] == 'Harry Potter') & (kmeans.labels_ == 1)][:3]['Text'])\n",
    "print('')\n",
    "print(\"Amazon, cluster 1: \\n\", text_df[(text_df['Source'] == 'Amazon') & (kmeans.labels_ == 1)][:3]['Text'])\n",
    "print('')\n"
   ]
  },
  {
   "cell_type": "code",
   "execution_count": 45,
   "id": "94d12bd8",
   "metadata": {},
   "outputs": [
    {
     "name": "stdout",
     "output_type": "stream",
     "text": [
      "Proportion of cluster 0 from source BBC:  0.029157667386609073\n",
      "Proportion of cluster 0 from source Harry Potter:  0.36393088552915764\n",
      "Proportion of cluster 0 from source Amazon:  0.5377969762419006\n",
      "Proportion of cluster 0 from source Reddit:  0.06911447084233262\n",
      "\n",
      "Proportion of cluster 1 from source BBC:  0.0\n",
      "Proportion of cluster 1 from source Harry Potter:  0.0\n",
      "Proportion of cluster 1 from source Amazon:  0.0\n",
      "Proportion of cluster 1 from source Reddit:  1.0\n",
      "\n",
      "Proportion of cluster 2 from source BBC:  0.9285714285714286\n",
      "Proportion of cluster 2 from source Harry Potter:  0.06904761904761905\n",
      "Proportion of cluster 2 from source Amazon:  0.002380952380952381\n",
      "Proportion of cluster 2 from source Reddit:  0.0\n",
      "\n",
      "Proportion of cluster 3 from source BBC:  0.0\n",
      "Proportion of cluster 3 from source Harry Potter:  1.0\n",
      "Proportion of cluster 3 from source Amazon:  0.0\n",
      "Proportion of cluster 3 from source Reddit:  0.0\n",
      "\n",
      "Proportion of cluster 4 from source BBC:  0.0\n",
      "Proportion of cluster 4 from source Harry Potter:  0.001876172607879925\n",
      "Proportion of cluster 4 from source Amazon:  0.0\n",
      "Proportion of cluster 4 from source Reddit:  0.99812382739212\n",
      "\n"
     ]
    }
   ],
   "source": [
    "\"\"\"Same, but for a five-clustering.\"\"\"\n",
    "\n",
    "kmeans = KMeans(n_clusters=5, random_state=12).fit(text_df_v)\n",
    "\n",
    "for k in range(5):\n",
    "    for source in text_df['Source'].unique():\n",
    "        source_k_count = np.sum((text_df['Source'] == source) & (kmeans.labels_ == k))\n",
    "        k_count = np.sum((kmeans.labels_ == k))\n",
    "        proportion = source_k_count / k_count\n",
    "        print(f\"Proportion of cluster {k} from source {source}: \", proportion)\n",
    "    print('')"
   ]
  },
  {
   "cell_type": "code",
   "execution_count": 107,
   "id": "56970f6e",
   "metadata": {},
   "outputs": [],
   "source": [
    "from sklearn.decomposition import LatentDirichletAllocation\n",
    "\n",
    "num_topics = 4\n",
    "lda = LatentDirichletAllocation(n_components=num_topics, random_state=34)\n",
    "text_topics = lda.fit_transform(text_df_v)"
   ]
  },
  {
   "cell_type": "code",
   "execution_count": 108,
   "id": "8cccbd29",
   "metadata": {},
   "outputs": [
    {
     "name": "stdout",
     "output_type": "stream",
     "text": [
      "Topic 1:\n",
      "harry, guitar, string, great, good, like, work, sound, pedal, said, just, pick, strap, price, really, quality, know, use, thing, cable,\n",
      "\n",
      "Topic 2:\n",
      "add, cup, minute, sugar, tsp, oil, salt, tbsp, egg, sauce, dough, butter, water, flour, mix, pepper, heat, cook, recipe, ingredient,\n",
      "\n",
      "Topic 3:\n",
      "said, labour, blair, election, party, government, minister, tory, lord, howard, tax, say, people, brown, prime minister, prime, new, chancellor, told, public,\n",
      "\n",
      "Topic 4:\n",
      "mcgonagall, professor mcgonagall, fred, cloak, thinking, gryffindor, scrambled, lamp, sent, dursley, nevilles, professor, rattled, followed, tap, distance, demanded, ordinary, mom, dream,\n",
      "\n"
     ]
    }
   ],
   "source": [
    "num_words = 20\n",
    "feature_names = vectorizer.get_feature_names_out()\n",
    "for i, topic in enumerate(lda.components_):\n",
    "    top_word_indices = np.argsort(topic)[:-num_words - 1:-1]\n",
    "    top_words = [feature_names[j] + ',' for j in top_word_indices]\n",
    "    print(f\"Topic {(i+1)}:\")\n",
    "    print(' '.join(top_words) + \"\\n\")"
   ]
  },
  {
   "cell_type": "code",
   "execution_count": 153,
   "id": "5a247d62",
   "metadata": {
    "scrolled": true
   },
   "outputs": [
    {
     "name": "stdout",
     "output_type": "stream",
     "text": [
      "\n",
      "\n",
      "Topic 1 (Music?): \n",
      "\n",
      "Source BBC: \n",
      "MPs will be thrown out of the Commons if they use Blackberries in the chamber Speaker Michael Martin has ruled.The use of electronic devices in the Commons chamber has long been frowned on.The Speaker chairs debates in the Commons and is charged with ensuring order in the chamber and enforcing rules and conventions of the House.The £200 handheld computers can be used as a phone, pager or to send e-mails.\n",
      "\n",
      "Source Harry Potter: \n",
      "Great Uncle Algie was so pleased he \n",
      "bought me my toad.” \n",
      "\n",
      "On Harry’s other side, Percy Weasley and Hermione \n",
      "were talking about lessons (“I do hope they start right \n",
      "away, there’s so much to learn, I’m particularly \n",
      "interested in Transfiguration, you know, turning \n",
      "something into something else, of course, it’s \n",
      "supposed to be very difficult — “You’ll be starting \n",
      "small, just matches into needles and that sort of \n",
      "thing — ”).\n",
      "\n",
      "Source Amazon: \n",
      "I really can't say enough positive things about the Apogee JAM.  Not even 3 years ago, I would have considered recording into an iPad or iPhone to be a &#34;novelty&#34;, and the interface products that most people use to hook up your guitar as &#34;gimmicks&#34; or &#34;toys&#34;.  Now, as of 2013/14, we have so many quality modeling programs, recording DAW's, and AudioBus to connect them to one another.  Whether you're a budding professional, or just a hobbyist aiming to record your own covers\n",
      "\n",
      "Source Reddit: \n",
      "Your submission has been removed because has been marked as possibly having affiliate advertising products.  We apologize if we made a mistake  Please notify the mods and we will address.\r\n",
      "\r\n",
      "*I am a bot, and this action was performed automatically. Please [contact the moderators of this subreddit](/message/compose/?to=/r/recipes) if you have any questions or concerns.*\n",
      "\n",
      "\n",
      "Topic 2 (Recipes): \n",
      "\n",
      "Source BBC: \n",
      "They will also speak to Mr Finnie, representatives of the Royal Society and the Sea Fish Industry Authority.Members of Westminster's environment, food and rural affairs committee will be touring fish markets and talking to fish processors.The aim is that fishing ports like Peterhead or Fraserburgh would be allocated a quota and local people would decide how to fish it.A group of MPs are on a two-day fact-finding mission to Scotland to gather evidence for a report into the UK's fishing industry.\n",
      "\n",
      "Source Harry Potter: \n",
      "These tables were laid with glittering golden plates \n",
      "and goblets.\n",
      "\n",
      "Source Amazon: \n",
      "I bought a guitar that had been sitting in a guys closet for the longest time, and the fret board was so dry and colorless. I used this, and the color became rich and less dry. If your fret board is pretty dry, DO NOT remove the oil. Let it sit overnight and then remove it with a towel. Leave it longer depending on how dry the fret board is. I love this because it doesn't leave an oily residue and it doesn't have a smell that stands out. I didn't even notice a smell. I definitely would say this \n",
      "\n",
      "Source Reddit: \n",
      "Ramen broth, chashu, and ramen egg adapted from Just One Cookbook. Pizza dough recipe from Sugar Spun Run.\r\n",
      "\r\n",
      "If you have any questions, please feel free to ask or refer to [this video](https://youtu.be/42OkzLY1q4A).\r\n",
      "\r\n",
      "&amp;nbsp;\r\n",
      "\r\n",
      "**INGREDIENTS**\r\n",
      "\r\n",
      "**Chashu:**\r\n",
      "\r\n",
      "* 2-2 lb pork belly block (roughly 8\" x 9\", 20 cm x 23 cm)\r\n",
      "* 2-3 green onions\r\n",
      "* 1 knob ginger\r\n",
      "* 1 Tbsp neutral-flavored oil (vegetable, canola, etc.)\r\n",
      "* 1 cup sake\r\n",
      "* 1 cup soy sauce\r\n",
      "* 2 cups water\r\n",
      "* T cup sugar\r\n",
      "\r\n",
      "**Ramen Eggs\n",
      "\n",
      "\n",
      "Topic 3 (Politics): \n",
      "\n",
      "Source BBC: \n",
      "Former welfare minister Frank Field MP said the prime minister should sack Mr Brown, but did not believe Mr Blair was strong enough to do so.Mr Blair said the claims were \"reheated from six months ago\" and that he was concentrating on running the country.The Liberal Democrat parliamentary chairman Matthew Taylor said the personal ambition of Mr Blair and Mr Brown was \"getting in the way of good government\".According to Mr Peston the prime minister said: \"Help me to get through the year and I wil\n",
      "\n",
      "Source Harry Potter: \n",
      "Perched atop a high mountain \n",
      "on the other side, its windows sparkling in the starry \n",
      "sky, was a vast castle with many turrets and towers.\n",
      "\n",
      "Source Amazon: \n",
      "Not much to say here. I have a bad habit of putting picks in my mouth and chewing on them, effectively destroying them, but with these, I don't know what they've done and put on the surface of these things, but it is gross. Haha, it killed my bad habit of chewing on picks.\n",
      "\n",
      "Source Reddit: \n",
      "Thank you for saying this. Even in India, being an Indian, I've found many restaurants use almost the same \"masala\" for recipes with varying names - vegetarian &amp; non-veg both. Same goes for many \"desi Chinese\" recipes too! I think they compromise on flavour trying to cut costs and serve food faster. Please note that the way these spices are used in the recipe makes a significant change in flavour too. But, I assure you, a good restaurant will serve you dishes with varying flavours.\r\n",
      "\r\n",
      "Also, \n",
      "\n",
      "\n",
      "Topic 4 (HP): \n",
      "\n",
      "Source BBC: \n",
      "The plight of the infected women was overshadowed for a long time.Until recently, very few of the women have had access to anti-retroviral treatment.Britain is to give a £4m grant to help women survivors of the Rwandan genocide who were raped and often deliberately infected with HIV/Aids.An estimated 25,000 girls and women were raped during the 1994 genocide.As the women die, the number of Rwanda's orphans rises.\n",
      "\n",
      "Source Harry Potter: \n",
      "“So — after that obvious and disgusting bit of \n",
      "cheating — ” \n",
      "\n",
      "“Jordan!” growled Professor McGonagall.\n",
      "\n",
      "Source Amazon: \n",
      "great value\n",
      "\n",
      "Source Reddit: \n",
      "Zucchini is literally a specific type of summer squash. So yes any summer squash works for be purpose of the bread structure. But zucchini is also the least flavorful of summer squashes so if you don\u0019t like the taste of squash, using heirloom summer squash will have you making a bread that\u0019s deep in squash flavor. \r\n",
      "\r\n",
      "I prefer this but many people seem to want their squash in the bread to have no flavor. \r\n",
      "\r\n",
      "The people who voted no - do you know that zucchini is literally a summer squash?\n"
     ]
    }
   ],
   "source": [
    "\"\"\"Gets the texts from each source most aligned with each topic.\"\"\"\n",
    "\n",
    "pd.options.display.max_colwidth = 100\n",
    "\n",
    "text_topics = pd.DataFrame(text_topics) #So that the indices are preserved when masking on source below.\n",
    "\n",
    "for i, topic in enumerate(['Music?', 'Recipes', 'Politics', 'HP']):\n",
    "    print(f'\\n\\nTopic {i+1} ({topic}): ')\n",
    "    for source in text_df['Source'].unique():\n",
    "        text_idx = text_topics[text_df['Source'] == source][i].idxmax()\n",
    "        print(f'\\nSource {source}: ')\n",
    "        print(text_df.iloc[text_idx]['Text'][:500])"
   ]
  },
  {
   "cell_type": "code",
   "execution_count": null,
   "id": "ea7a5825",
   "metadata": {},
   "outputs": [],
   "source": []
  }
 ],
 "metadata": {
  "kernelspec": {
   "display_name": "Python 3 (ipykernel)",
   "language": "python",
   "name": "python3"
  },
  "language_info": {
   "codemirror_mode": {
    "name": "ipython",
    "version": 3
   },
   "file_extension": ".py",
   "mimetype": "text/x-python",
   "name": "python",
   "nbconvert_exporter": "python",
   "pygments_lexer": "ipython3",
   "version": "3.9.5"
  }
 },
 "nbformat": 4,
 "nbformat_minor": 5
}
