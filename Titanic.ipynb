{
 "cells": [
  {
   "cell_type": "markdown",
   "id": "d5e257d1",
   "metadata": {},
   "source": [
    "Other ideas: do something with Ticket attribute?"
   ]
  },
  {
   "cell_type": "code",
   "execution_count": 2,
   "id": "0b3012d8",
   "metadata": {},
   "outputs": [
    {
     "name": "stdout",
     "output_type": "stream",
     "text": [
      "gender_submission.csv  test.csv  train.csv\r\n"
     ]
    }
   ],
   "source": [
    "ls titanic_data"
   ]
  },
  {
   "cell_type": "code",
   "execution_count": 3,
   "id": "e711568f",
   "metadata": {},
   "outputs": [],
   "source": [
    "import numpy as np\n",
    "import pandas as pd\n",
    "import matplotlib.pyplot as plt"
   ]
  },
  {
   "cell_type": "code",
   "execution_count": 4,
   "id": "14d1d4a7",
   "metadata": {
    "scrolled": false
   },
   "outputs": [
    {
     "name": "stdout",
     "output_type": "stream",
     "text": [
      "(891, 12) (418, 11) (418, 2)\n",
      "Index(['PassengerId', 'Survived', 'Pclass', 'Name', 'Sex', 'Age', 'SibSp',\n",
      "       'Parch', 'Ticket', 'Fare', 'Cabin', 'Embarked'],\n",
      "      dtype='object')\n"
     ]
    }
   ],
   "source": [
    "train_data = pd.read_csv('titanic_data/train.csv')\n",
    "test_data = pd.read_csv('titanic_data/test.csv')\n",
    "gender_submission_data = pd.read_csv('titanic_data/gender_submission.csv')\n",
    "\n",
    "print(train_data.shape, test_data.shape, gender_submission_data.shape)\n",
    "print(train_data.columns)"
   ]
  },
  {
   "cell_type": "code",
   "execution_count": 5,
   "id": "606530df",
   "metadata": {},
   "outputs": [
    {
     "data": {
      "text/html": [
       "<div>\n",
       "<style scoped>\n",
       "    .dataframe tbody tr th:only-of-type {\n",
       "        vertical-align: middle;\n",
       "    }\n",
       "\n",
       "    .dataframe tbody tr th {\n",
       "        vertical-align: top;\n",
       "    }\n",
       "\n",
       "    .dataframe thead th {\n",
       "        text-align: right;\n",
       "    }\n",
       "</style>\n",
       "<table border=\"1\" class=\"dataframe\">\n",
       "  <thead>\n",
       "    <tr style=\"text-align: right;\">\n",
       "      <th></th>\n",
       "      <th>PassengerId</th>\n",
       "      <th>Survived</th>\n",
       "      <th>Pclass</th>\n",
       "      <th>Name</th>\n",
       "      <th>Sex</th>\n",
       "      <th>Age</th>\n",
       "      <th>SibSp</th>\n",
       "      <th>Parch</th>\n",
       "      <th>Ticket</th>\n",
       "      <th>Fare</th>\n",
       "      <th>Cabin</th>\n",
       "      <th>Embarked</th>\n",
       "    </tr>\n",
       "  </thead>\n",
       "  <tbody>\n",
       "    <tr>\n",
       "      <th>0</th>\n",
       "      <td>1</td>\n",
       "      <td>0</td>\n",
       "      <td>3</td>\n",
       "      <td>Braund, Mr. Owen Harris</td>\n",
       "      <td>male</td>\n",
       "      <td>22.0</td>\n",
       "      <td>1</td>\n",
       "      <td>0</td>\n",
       "      <td>A/5 21171</td>\n",
       "      <td>7.2500</td>\n",
       "      <td>NaN</td>\n",
       "      <td>S</td>\n",
       "    </tr>\n",
       "    <tr>\n",
       "      <th>1</th>\n",
       "      <td>2</td>\n",
       "      <td>1</td>\n",
       "      <td>1</td>\n",
       "      <td>Cumings, Mrs. John Bradley (Florence Briggs Th...</td>\n",
       "      <td>female</td>\n",
       "      <td>38.0</td>\n",
       "      <td>1</td>\n",
       "      <td>0</td>\n",
       "      <td>PC 17599</td>\n",
       "      <td>71.2833</td>\n",
       "      <td>C85</td>\n",
       "      <td>C</td>\n",
       "    </tr>\n",
       "    <tr>\n",
       "      <th>2</th>\n",
       "      <td>3</td>\n",
       "      <td>1</td>\n",
       "      <td>3</td>\n",
       "      <td>Heikkinen, Miss. Laina</td>\n",
       "      <td>female</td>\n",
       "      <td>26.0</td>\n",
       "      <td>0</td>\n",
       "      <td>0</td>\n",
       "      <td>STON/O2. 3101282</td>\n",
       "      <td>7.9250</td>\n",
       "      <td>NaN</td>\n",
       "      <td>S</td>\n",
       "    </tr>\n",
       "    <tr>\n",
       "      <th>3</th>\n",
       "      <td>4</td>\n",
       "      <td>1</td>\n",
       "      <td>1</td>\n",
       "      <td>Futrelle, Mrs. Jacques Heath (Lily May Peel)</td>\n",
       "      <td>female</td>\n",
       "      <td>35.0</td>\n",
       "      <td>1</td>\n",
       "      <td>0</td>\n",
       "      <td>113803</td>\n",
       "      <td>53.1000</td>\n",
       "      <td>C123</td>\n",
       "      <td>S</td>\n",
       "    </tr>\n",
       "    <tr>\n",
       "      <th>4</th>\n",
       "      <td>5</td>\n",
       "      <td>0</td>\n",
       "      <td>3</td>\n",
       "      <td>Allen, Mr. William Henry</td>\n",
       "      <td>male</td>\n",
       "      <td>35.0</td>\n",
       "      <td>0</td>\n",
       "      <td>0</td>\n",
       "      <td>373450</td>\n",
       "      <td>8.0500</td>\n",
       "      <td>NaN</td>\n",
       "      <td>S</td>\n",
       "    </tr>\n",
       "    <tr>\n",
       "      <th>...</th>\n",
       "      <td>...</td>\n",
       "      <td>...</td>\n",
       "      <td>...</td>\n",
       "      <td>...</td>\n",
       "      <td>...</td>\n",
       "      <td>...</td>\n",
       "      <td>...</td>\n",
       "      <td>...</td>\n",
       "      <td>...</td>\n",
       "      <td>...</td>\n",
       "      <td>...</td>\n",
       "      <td>...</td>\n",
       "    </tr>\n",
       "    <tr>\n",
       "      <th>886</th>\n",
       "      <td>887</td>\n",
       "      <td>0</td>\n",
       "      <td>2</td>\n",
       "      <td>Montvila, Rev. Juozas</td>\n",
       "      <td>male</td>\n",
       "      <td>27.0</td>\n",
       "      <td>0</td>\n",
       "      <td>0</td>\n",
       "      <td>211536</td>\n",
       "      <td>13.0000</td>\n",
       "      <td>NaN</td>\n",
       "      <td>S</td>\n",
       "    </tr>\n",
       "    <tr>\n",
       "      <th>887</th>\n",
       "      <td>888</td>\n",
       "      <td>1</td>\n",
       "      <td>1</td>\n",
       "      <td>Graham, Miss. Margaret Edith</td>\n",
       "      <td>female</td>\n",
       "      <td>19.0</td>\n",
       "      <td>0</td>\n",
       "      <td>0</td>\n",
       "      <td>112053</td>\n",
       "      <td>30.0000</td>\n",
       "      <td>B42</td>\n",
       "      <td>S</td>\n",
       "    </tr>\n",
       "    <tr>\n",
       "      <th>888</th>\n",
       "      <td>889</td>\n",
       "      <td>0</td>\n",
       "      <td>3</td>\n",
       "      <td>Johnston, Miss. Catherine Helen \"Carrie\"</td>\n",
       "      <td>female</td>\n",
       "      <td>NaN</td>\n",
       "      <td>1</td>\n",
       "      <td>2</td>\n",
       "      <td>W./C. 6607</td>\n",
       "      <td>23.4500</td>\n",
       "      <td>NaN</td>\n",
       "      <td>S</td>\n",
       "    </tr>\n",
       "    <tr>\n",
       "      <th>889</th>\n",
       "      <td>890</td>\n",
       "      <td>1</td>\n",
       "      <td>1</td>\n",
       "      <td>Behr, Mr. Karl Howell</td>\n",
       "      <td>male</td>\n",
       "      <td>26.0</td>\n",
       "      <td>0</td>\n",
       "      <td>0</td>\n",
       "      <td>111369</td>\n",
       "      <td>30.0000</td>\n",
       "      <td>C148</td>\n",
       "      <td>C</td>\n",
       "    </tr>\n",
       "    <tr>\n",
       "      <th>890</th>\n",
       "      <td>891</td>\n",
       "      <td>0</td>\n",
       "      <td>3</td>\n",
       "      <td>Dooley, Mr. Patrick</td>\n",
       "      <td>male</td>\n",
       "      <td>32.0</td>\n",
       "      <td>0</td>\n",
       "      <td>0</td>\n",
       "      <td>370376</td>\n",
       "      <td>7.7500</td>\n",
       "      <td>NaN</td>\n",
       "      <td>Q</td>\n",
       "    </tr>\n",
       "  </tbody>\n",
       "</table>\n",
       "<p>891 rows × 12 columns</p>\n",
       "</div>"
      ],
      "text/plain": [
       "     PassengerId  Survived  Pclass  \\\n",
       "0              1         0       3   \n",
       "1              2         1       1   \n",
       "2              3         1       3   \n",
       "3              4         1       1   \n",
       "4              5         0       3   \n",
       "..           ...       ...     ...   \n",
       "886          887         0       2   \n",
       "887          888         1       1   \n",
       "888          889         0       3   \n",
       "889          890         1       1   \n",
       "890          891         0       3   \n",
       "\n",
       "                                                  Name     Sex   Age  SibSp  \\\n",
       "0                              Braund, Mr. Owen Harris    male  22.0      1   \n",
       "1    Cumings, Mrs. John Bradley (Florence Briggs Th...  female  38.0      1   \n",
       "2                               Heikkinen, Miss. Laina  female  26.0      0   \n",
       "3         Futrelle, Mrs. Jacques Heath (Lily May Peel)  female  35.0      1   \n",
       "4                             Allen, Mr. William Henry    male  35.0      0   \n",
       "..                                                 ...     ...   ...    ...   \n",
       "886                              Montvila, Rev. Juozas    male  27.0      0   \n",
       "887                       Graham, Miss. Margaret Edith  female  19.0      0   \n",
       "888           Johnston, Miss. Catherine Helen \"Carrie\"  female   NaN      1   \n",
       "889                              Behr, Mr. Karl Howell    male  26.0      0   \n",
       "890                                Dooley, Mr. Patrick    male  32.0      0   \n",
       "\n",
       "     Parch            Ticket     Fare Cabin Embarked  \n",
       "0        0         A/5 21171   7.2500   NaN        S  \n",
       "1        0          PC 17599  71.2833   C85        C  \n",
       "2        0  STON/O2. 3101282   7.9250   NaN        S  \n",
       "3        0            113803  53.1000  C123        S  \n",
       "4        0            373450   8.0500   NaN        S  \n",
       "..     ...               ...      ...   ...      ...  \n",
       "886      0            211536  13.0000   NaN        S  \n",
       "887      0            112053  30.0000   B42        S  \n",
       "888      2        W./C. 6607  23.4500   NaN        S  \n",
       "889      0            111369  30.0000  C148        C  \n",
       "890      0            370376   7.7500   NaN        Q  \n",
       "\n",
       "[891 rows x 12 columns]"
      ]
     },
     "execution_count": 5,
     "metadata": {},
     "output_type": "execute_result"
    }
   ],
   "source": [
    "train_data"
   ]
  },
  {
   "cell_type": "code",
   "execution_count": 6,
   "id": "43859eb5",
   "metadata": {
    "scrolled": true
   },
   "outputs": [
    {
     "name": "stdout",
     "output_type": "stream",
     "text": [
      "<class 'pandas.core.frame.DataFrame'>\n",
      "RangeIndex: 891 entries, 0 to 890\n",
      "Data columns (total 12 columns):\n",
      " #   Column       Non-Null Count  Dtype  \n",
      "---  ------       --------------  -----  \n",
      " 0   PassengerId  891 non-null    int64  \n",
      " 1   Survived     891 non-null    int64  \n",
      " 2   Pclass       891 non-null    int64  \n",
      " 3   Name         891 non-null    object \n",
      " 4   Sex          891 non-null    object \n",
      " 5   Age          714 non-null    float64\n",
      " 6   SibSp        891 non-null    int64  \n",
      " 7   Parch        891 non-null    int64  \n",
      " 8   Ticket       891 non-null    object \n",
      " 9   Fare         891 non-null    float64\n",
      " 10  Cabin        204 non-null    object \n",
      " 11  Embarked     889 non-null    object \n",
      "dtypes: float64(2), int64(5), object(5)\n",
      "memory usage: 83.7+ KB\n"
     ]
    }
   ],
   "source": [
    "train_data.info()"
   ]
  },
  {
   "cell_type": "code",
   "execution_count": 7,
   "id": "b3b1aa65",
   "metadata": {},
   "outputs": [
    {
     "name": "stdout",
     "output_type": "stream",
     "text": [
      "<class 'pandas.core.frame.DataFrame'>\n",
      "RangeIndex: 418 entries, 0 to 417\n",
      "Data columns (total 11 columns):\n",
      " #   Column       Non-Null Count  Dtype  \n",
      "---  ------       --------------  -----  \n",
      " 0   PassengerId  418 non-null    int64  \n",
      " 1   Pclass       418 non-null    int64  \n",
      " 2   Name         418 non-null    object \n",
      " 3   Sex          418 non-null    object \n",
      " 4   Age          332 non-null    float64\n",
      " 5   SibSp        418 non-null    int64  \n",
      " 6   Parch        418 non-null    int64  \n",
      " 7   Ticket       418 non-null    object \n",
      " 8   Fare         417 non-null    float64\n",
      " 9   Cabin        91 non-null     object \n",
      " 10  Embarked     418 non-null    object \n",
      "dtypes: float64(2), int64(4), object(5)\n",
      "memory usage: 36.0+ KB\n"
     ]
    }
   ],
   "source": [
    "test_data.info()"
   ]
  },
  {
   "cell_type": "code",
   "execution_count": 8,
   "id": "caea4789",
   "metadata": {},
   "outputs": [
    {
     "data": {
      "text/html": [
       "<div>\n",
       "<style scoped>\n",
       "    .dataframe tbody tr th:only-of-type {\n",
       "        vertical-align: middle;\n",
       "    }\n",
       "\n",
       "    .dataframe tbody tr th {\n",
       "        vertical-align: top;\n",
       "    }\n",
       "\n",
       "    .dataframe thead th {\n",
       "        text-align: right;\n",
       "    }\n",
       "</style>\n",
       "<table border=\"1\" class=\"dataframe\">\n",
       "  <thead>\n",
       "    <tr style=\"text-align: right;\">\n",
       "      <th></th>\n",
       "      <th>PassengerId</th>\n",
       "      <th>Survived</th>\n",
       "      <th>Pclass</th>\n",
       "      <th>Age</th>\n",
       "      <th>SibSp</th>\n",
       "      <th>Parch</th>\n",
       "      <th>Fare</th>\n",
       "    </tr>\n",
       "  </thead>\n",
       "  <tbody>\n",
       "    <tr>\n",
       "      <th>count</th>\n",
       "      <td>891.000000</td>\n",
       "      <td>891.000000</td>\n",
       "      <td>891.000000</td>\n",
       "      <td>714.000000</td>\n",
       "      <td>891.000000</td>\n",
       "      <td>891.000000</td>\n",
       "      <td>891.000000</td>\n",
       "    </tr>\n",
       "    <tr>\n",
       "      <th>mean</th>\n",
       "      <td>446.000000</td>\n",
       "      <td>0.383838</td>\n",
       "      <td>2.308642</td>\n",
       "      <td>29.699118</td>\n",
       "      <td>0.523008</td>\n",
       "      <td>0.381594</td>\n",
       "      <td>32.204208</td>\n",
       "    </tr>\n",
       "    <tr>\n",
       "      <th>std</th>\n",
       "      <td>257.353842</td>\n",
       "      <td>0.486592</td>\n",
       "      <td>0.836071</td>\n",
       "      <td>14.526497</td>\n",
       "      <td>1.102743</td>\n",
       "      <td>0.806057</td>\n",
       "      <td>49.693429</td>\n",
       "    </tr>\n",
       "    <tr>\n",
       "      <th>min</th>\n",
       "      <td>1.000000</td>\n",
       "      <td>0.000000</td>\n",
       "      <td>1.000000</td>\n",
       "      <td>0.420000</td>\n",
       "      <td>0.000000</td>\n",
       "      <td>0.000000</td>\n",
       "      <td>0.000000</td>\n",
       "    </tr>\n",
       "    <tr>\n",
       "      <th>25%</th>\n",
       "      <td>223.500000</td>\n",
       "      <td>0.000000</td>\n",
       "      <td>2.000000</td>\n",
       "      <td>20.125000</td>\n",
       "      <td>0.000000</td>\n",
       "      <td>0.000000</td>\n",
       "      <td>7.910400</td>\n",
       "    </tr>\n",
       "    <tr>\n",
       "      <th>50%</th>\n",
       "      <td>446.000000</td>\n",
       "      <td>0.000000</td>\n",
       "      <td>3.000000</td>\n",
       "      <td>28.000000</td>\n",
       "      <td>0.000000</td>\n",
       "      <td>0.000000</td>\n",
       "      <td>14.454200</td>\n",
       "    </tr>\n",
       "    <tr>\n",
       "      <th>75%</th>\n",
       "      <td>668.500000</td>\n",
       "      <td>1.000000</td>\n",
       "      <td>3.000000</td>\n",
       "      <td>38.000000</td>\n",
       "      <td>1.000000</td>\n",
       "      <td>0.000000</td>\n",
       "      <td>31.000000</td>\n",
       "    </tr>\n",
       "    <tr>\n",
       "      <th>max</th>\n",
       "      <td>891.000000</td>\n",
       "      <td>1.000000</td>\n",
       "      <td>3.000000</td>\n",
       "      <td>80.000000</td>\n",
       "      <td>8.000000</td>\n",
       "      <td>6.000000</td>\n",
       "      <td>512.329200</td>\n",
       "    </tr>\n",
       "  </tbody>\n",
       "</table>\n",
       "</div>"
      ],
      "text/plain": [
       "       PassengerId    Survived      Pclass         Age       SibSp  \\\n",
       "count   891.000000  891.000000  891.000000  714.000000  891.000000   \n",
       "mean    446.000000    0.383838    2.308642   29.699118    0.523008   \n",
       "std     257.353842    0.486592    0.836071   14.526497    1.102743   \n",
       "min       1.000000    0.000000    1.000000    0.420000    0.000000   \n",
       "25%     223.500000    0.000000    2.000000   20.125000    0.000000   \n",
       "50%     446.000000    0.000000    3.000000   28.000000    0.000000   \n",
       "75%     668.500000    1.000000    3.000000   38.000000    1.000000   \n",
       "max     891.000000    1.000000    3.000000   80.000000    8.000000   \n",
       "\n",
       "            Parch        Fare  \n",
       "count  891.000000  891.000000  \n",
       "mean     0.381594   32.204208  \n",
       "std      0.806057   49.693429  \n",
       "min      0.000000    0.000000  \n",
       "25%      0.000000    7.910400  \n",
       "50%      0.000000   14.454200  \n",
       "75%      0.000000   31.000000  \n",
       "max      6.000000  512.329200  "
      ]
     },
     "execution_count": 8,
     "metadata": {},
     "output_type": "execute_result"
    }
   ],
   "source": [
    "train_data.describe()"
   ]
  },
  {
   "cell_type": "code",
   "execution_count": 9,
   "id": "b0043db1",
   "metadata": {},
   "outputs": [
    {
     "data": {
      "image/png": "[encoded data removed]",
      "text/plain": [
       "<Figure size 1440x1440 with 9 Axes>"
      ]
     },
     "metadata": {
      "needs_background": "light"
     },
     "output_type": "display_data"
    }
   ],
   "source": [
    "%matplotlib inline\n",
    "train_data.hist(bins=40, figsize=(20,20));"
   ]
  },
  {
   "cell_type": "code",
   "execution_count": 10,
   "id": "fd595f8d",
   "metadata": {},
   "outputs": [
    {
     "data": {
      "text/plain": [
       "Survived       1.000000\n",
       "Fare           0.257307\n",
       "Parch          0.081629\n",
       "PassengerId   -0.005007\n",
       "SibSp         -0.035322\n",
       "Age           -0.077221\n",
       "Pclass        -0.338481\n",
       "Name: Survived, dtype: float64"
      ]
     },
     "execution_count": 10,
     "metadata": {},
     "output_type": "execute_result"
    }
   ],
   "source": [
    "corr_matrix = train_data.corr()\n",
    "corr_matrix['Survived'].sort_values(ascending=False)"
   ]
  },
  {
   "cell_type": "code",
   "execution_count": 11,
   "id": "85468f5f",
   "metadata": {
    "scrolled": true
   },
   "outputs": [
    {
     "data": {
      "text/html": [
       "<div>\n",
       "<style scoped>\n",
       "    .dataframe tbody tr th:only-of-type {\n",
       "        vertical-align: middle;\n",
       "    }\n",
       "\n",
       "    .dataframe tbody tr th {\n",
       "        vertical-align: top;\n",
       "    }\n",
       "\n",
       "    .dataframe thead th {\n",
       "        text-align: right;\n",
       "    }\n",
       "</style>\n",
       "<table border=\"1\" class=\"dataframe\">\n",
       "  <thead>\n",
       "    <tr style=\"text-align: right;\">\n",
       "      <th></th>\n",
       "      <th>count</th>\n",
       "      <th>survival proportion</th>\n",
       "    </tr>\n",
       "    <tr>\n",
       "      <th>title</th>\n",
       "      <th></th>\n",
       "      <th></th>\n",
       "    </tr>\n",
       "  </thead>\n",
       "  <tbody>\n",
       "    <tr>\n",
       "      <th>Mr</th>\n",
       "      <td>517</td>\n",
       "      <td>0.156673</td>\n",
       "    </tr>\n",
       "    <tr>\n",
       "      <th>Miss</th>\n",
       "      <td>182</td>\n",
       "      <td>0.697802</td>\n",
       "    </tr>\n",
       "    <tr>\n",
       "      <th>Mrs</th>\n",
       "      <td>125</td>\n",
       "      <td>0.792000</td>\n",
       "    </tr>\n",
       "    <tr>\n",
       "      <th>Master</th>\n",
       "      <td>40</td>\n",
       "      <td>0.575000</td>\n",
       "    </tr>\n",
       "    <tr>\n",
       "      <th>Dr</th>\n",
       "      <td>7</td>\n",
       "      <td>0.428571</td>\n",
       "    </tr>\n",
       "    <tr>\n",
       "      <th>Rev</th>\n",
       "      <td>6</td>\n",
       "      <td>0.000000</td>\n",
       "    </tr>\n",
       "    <tr>\n",
       "      <th>Major</th>\n",
       "      <td>2</td>\n",
       "      <td>0.500000</td>\n",
       "    </tr>\n",
       "    <tr>\n",
       "      <th>Col</th>\n",
       "      <td>2</td>\n",
       "      <td>0.500000</td>\n",
       "    </tr>\n",
       "    <tr>\n",
       "      <th>Mlle</th>\n",
       "      <td>2</td>\n",
       "      <td>1.000000</td>\n",
       "    </tr>\n",
       "    <tr>\n",
       "      <th>Mme</th>\n",
       "      <td>1</td>\n",
       "      <td>1.000000</td>\n",
       "    </tr>\n",
       "    <tr>\n",
       "      <th>Ms</th>\n",
       "      <td>1</td>\n",
       "      <td>1.000000</td>\n",
       "    </tr>\n",
       "    <tr>\n",
       "      <th>Capt</th>\n",
       "      <td>1</td>\n",
       "      <td>0.000000</td>\n",
       "    </tr>\n",
       "    <tr>\n",
       "      <th>Lady</th>\n",
       "      <td>1</td>\n",
       "      <td>1.000000</td>\n",
       "    </tr>\n",
       "    <tr>\n",
       "      <th>Jonkheer</th>\n",
       "      <td>1</td>\n",
       "      <td>0.000000</td>\n",
       "    </tr>\n",
       "    <tr>\n",
       "      <th>Don</th>\n",
       "      <td>1</td>\n",
       "      <td>0.000000</td>\n",
       "    </tr>\n",
       "    <tr>\n",
       "      <th>Countess</th>\n",
       "      <td>1</td>\n",
       "      <td>1.000000</td>\n",
       "    </tr>\n",
       "    <tr>\n",
       "      <th>Sir</th>\n",
       "      <td>1</td>\n",
       "      <td>1.000000</td>\n",
       "    </tr>\n",
       "  </tbody>\n",
       "</table>\n",
       "</div>"
      ],
      "text/plain": [
       "          count  survival proportion\n",
       "title                               \n",
       "Mr          517             0.156673\n",
       "Miss        182             0.697802\n",
       "Mrs         125             0.792000\n",
       "Master       40             0.575000\n",
       "Dr            7             0.428571\n",
       "Rev           6             0.000000\n",
       "Major         2             0.500000\n",
       "Col           2             0.500000\n",
       "Mlle          2             1.000000\n",
       "Mme           1             1.000000\n",
       "Ms            1             1.000000\n",
       "Capt          1             0.000000\n",
       "Lady          1             1.000000\n",
       "Jonkheer      1             0.000000\n",
       "Don           1             0.000000\n",
       "Countess      1             1.000000\n",
       "Sir           1             1.000000"
      ]
     },
     "execution_count": 11,
     "metadata": {},
     "output_type": "execute_result"
    }
   ],
   "source": [
    "#Gets a list of titles in the names:\n",
    "titles = train_data['Name'].str.extract(r'([A-Z][a-z]+)\\.')[0]\n",
    "\n",
    "#Adds a title attribute to a copy of train_data_copy:\n",
    "train_data_copy = train_data.copy()\n",
    "train_data_copy['title'] = titles\n",
    "\n",
    "#Gets description of the counts and survival proportions of titles:\n",
    "title_counts = train_data_copy.groupby('title').size()\n",
    "title_counts.name = 'count'\n",
    "title_surv_props = train_data_copy.groupby('title')['Survived'].mean()\n",
    "title_surv_props.name = 'survival proportion'\n",
    "pd.concat([title_counts, title_surv_props], axis=1).sort_values('count', ascending=False)"
   ]
  },
  {
   "cell_type": "code",
   "execution_count": 12,
   "id": "556401c0",
   "metadata": {},
   "outputs": [
    {
     "data": {
      "text/plain": [
       "title\n",
       "Col         2\n",
       "Dona        1\n",
       "Dr          1\n",
       "Master     21\n",
       "Miss       78\n",
       "Mr        240\n",
       "Mrs        72\n",
       "Ms          1\n",
       "Rev         2\n",
       "dtype: int64"
      ]
     },
     "execution_count": 12,
     "metadata": {},
     "output_type": "execute_result"
    }
   ],
   "source": [
    "#(In general, we'll take advantage of the fact that we know the structure of the test data to\n",
    "#determine specific data prep steps.)\n",
    "\n",
    "#Based on this and the cell above, I'll keep Mr, Miss, Mrs, Master, and Rev as titles\n",
    "#in the prepped data.\n",
    "\n",
    "test_titles = test_data['Name'].str.extract(r'([A-Z][a-z]+)\\.')[0]\n",
    "test_data_copy = test_data.copy()\n",
    "test_data_copy['title'] = test_titles\n",
    "test_data_copy.groupby('title').size()"
   ]
  },
  {
   "cell_type": "code",
   "execution_count": 13,
   "id": "8e52f700",
   "metadata": {},
   "outputs": [],
   "source": [
    "#Defines two transformers that adds a title categorical attribute\n",
    "#(FinalTitleAdder adds the final titles in the prepped data,\n",
    "# and TitleAdder is used only for filling in missing ages):\n",
    "\n",
    "from sklearn.base import BaseEstimator, TransformerMixin\n",
    "    \n",
    "class FinalTitleAdder(BaseEstimator, TransformerMixin):\n",
    "    def fit(self, X, y=None):\n",
    "        return self\n",
    "    def transform(self, X):\n",
    "        titles = X['Name'].str.extract(r'(Mr|Mrs|Miss|Master|Rev)\\.')[0]\n",
    "        X['title'] = titles\n",
    "        return X\n",
    "    \n",
    "class TitleAdder(BaseEstimator, TransformerMixin):\n",
    "    def fit(self, X, y=None):\n",
    "        return self\n",
    "    def transform(self, X):\n",
    "        titles = X['Name'].str.extract(r'([A-Z][a-z]+)\\.')[0]\n",
    "        X['title'] = titles\n",
    "        return X"
   ]
  },
  {
   "cell_type": "code",
   "execution_count": 14,
   "id": "e737f525",
   "metadata": {},
   "outputs": [],
   "source": [
    "#Fills in missing age values by average in title and fare value by overall median:\n",
    "\n",
    "class FillMissingAgesFare(BaseEstimator, TransformerMixin):\n",
    "    def fit(self, X, y=None):\n",
    "        title_adder = TitleAdder()\n",
    "        X_copy = X.copy()\n",
    "        self.X_ = title_adder.transform(X_copy)\n",
    "        return self\n",
    "    def transform(self, X):\n",
    "        X['Age'] = X['Age'].fillna(self.X_.groupby('title')['Age'].transform('mean'))\n",
    "        X['Fare'] = X['Fare'].fillna(self.X_['Fare'].median())\n",
    "        return X"
   ]
  },
  {
   "cell_type": "code",
   "execution_count": 15,
   "id": "5e890810",
   "metadata": {},
   "outputs": [
    {
     "data": {
      "text/plain": [
       "{'T'}"
      ]
     },
     "execution_count": 15,
     "metadata": {},
     "output_type": "execute_result"
    }
   ],
   "source": [
    "#Sees which letters are in one but not both of the test/train cabin letters:\n",
    "\n",
    "letters_train = set(train_data['Cabin'].str.extract(r'([A-Z])')[0])\n",
    "letters_test = set(test_data['Cabin'].str.extract(r'([A-Z])')[0])\n",
    "\n",
    "letters_train.symmetric_difference(letters_test)"
   ]
  },
  {
   "cell_type": "code",
   "execution_count": 16,
   "id": "7b1f26f9",
   "metadata": {},
   "outputs": [],
   "source": [
    "#Gets the first letter off of the known cabin names (except T):\n",
    "\n",
    "class CabinLetterGetter(BaseEstimator, TransformerMixin):\n",
    "    def fit(self, X, y=None):\n",
    "        return self\n",
    "    def transform(self, X):\n",
    "        letters = X['Cabin'].str.extract(r'([A-SU-Z])')[0]\n",
    "        X['cabin_letter'] = letters\n",
    "        return X"
   ]
  },
  {
   "cell_type": "code",
   "execution_count": 17,
   "id": "e999277f",
   "metadata": {},
   "outputs": [],
   "source": [
    "#Sees which prefixes are in one but not both of the test/train ticket values:\n",
    "\n",
    "prefixes_train = set(train_data['Ticket'].str.extract(r'(\\S+)\\s')[0])\n",
    "prefixes_test = set(test_data['Ticket'].str.extract(r'(\\S+)\\s')[0])\n",
    "\n",
    "missing_prefixes = prefixes_train.symmetric_difference(prefixes_test)"
   ]
  },
  {
   "cell_type": "code",
   "execution_count": 18,
   "id": "5bbc1e08",
   "metadata": {},
   "outputs": [],
   "source": [
    "#Gets any ticket number prefixes:\n",
    "\n",
    "class TicketPrefixGetter(BaseEstimator, TransformerMixin):\n",
    "    def fit(self, X, y=None):\n",
    "        return self\n",
    "    def transform(self, X):\n",
    "        prefixes = X['Ticket'].str.extract(r'(\\S+)\\s')[0]\n",
    "        prefixes = [np.nan if p in missing_prefixes else p for p in prefixes]\n",
    "        X['ticket_prefix'] = prefixes\n",
    "        return X"
   ]
  },
  {
   "cell_type": "code",
   "execution_count": 19,
   "id": "00391e6a",
   "metadata": {},
   "outputs": [],
   "source": [
    "#Adds the values of the SibSp and Parch attributes for a new attribute:\n",
    "\n",
    "class GetCompanionNum(BaseEstimator, TransformerMixin):\n",
    "    def fit(self, X, y=None):\n",
    "        return self\n",
    "    def transform(self, X):\n",
    "        X['num_of_companions'] = X['SibSp'] + X['Parch']\n",
    "        return X"
   ]
  },
  {
   "cell_type": "code",
   "execution_count": 20,
   "id": "ed4e90bc",
   "metadata": {},
   "outputs": [],
   "source": [
    "#Drops some attributes:\n",
    "\n",
    "class AttribDropper(BaseEstimator, TransformerMixin):\n",
    "    def fit(self, X, y=None):\n",
    "        return self\n",
    "    def transform(self, X):\n",
    "        X.drop(['Name', 'Ticket', 'Cabin', 'PassengerId'], axis=1, inplace=True)\n",
    "        return X"
   ]
  },
  {
   "cell_type": "code",
   "execution_count": 21,
   "id": "bb0fed09",
   "metadata": {},
   "outputs": [],
   "source": [
    "#Does one-hot encoding with pandas dataframe:\n",
    "\n",
    "class PandasOneHot(BaseEstimator, TransformerMixin):\n",
    "    def fit(self, X, y=None):\n",
    "        return self\n",
    "    def transform(self, X):\n",
    "        X = pd.get_dummies(X, columns=['Sex'], drop_first=True)\n",
    "        X = pd.get_dummies(X)\n",
    "        return X"
   ]
  },
  {
   "cell_type": "code",
   "execution_count": 22,
   "id": "c4772fb9",
   "metadata": {},
   "outputs": [],
   "source": [
    "from sklearn.pipeline import Pipeline\n",
    "from sklearn.preprocessing import StandardScaler\n",
    "from sklearn.preprocessing import OneHotEncoder\n",
    "\n",
    "pipeline_unscaled = Pipeline([\n",
    "    ('fill_ages_fare', FillMissingAgesFare()),\n",
    "    ('final_title_adder', FinalTitleAdder()),\n",
    "    ('cabin_letter_getter', CabinLetterGetter()),\n",
    "    ('ticket_prefix_getter', TicketPrefixGetter()),\n",
    "    ('companions', GetCompanionNum()),\n",
    "    ('attrib_dropper', AttribDropper()),\n",
    "    ('one_hot_encoder', PandasOneHot())\n",
    "])\n",
    "\n",
    "pipeline_scaled = Pipeline([\n",
    "    ('pipeline_unscaled', pipeline_unscaled),\n",
    "    ('std_scaler', StandardScaler())\n",
    "])"
   ]
  },
  {
   "cell_type": "code",
   "execution_count": 23,
   "id": "f3a27e6d",
   "metadata": {
    "scrolled": true
   },
   "outputs": [],
   "source": [
    "X = train_data.drop('Survived', axis=1)\n",
    "y = train_data['Survived']\n",
    "\n",
    "X2 = X.copy()\n",
    "test_data2 = test_data.copy()\n",
    "test_data3 = test_data.copy()\n",
    "\n",
    "X_unscaled = pipeline_unscaled.fit_transform(X)\n",
    "X_scaled = pipeline_scaled.fit_transform(X2)\n",
    "\n",
    "test_data_unscaled = pipeline_unscaled.transform(test_data2)\n",
    "test_data_scaled = pipeline_scaled.transform(test_data3)"
   ]
  },
  {
   "cell_type": "code",
   "execution_count": 24,
   "id": "0a3c0149",
   "metadata": {},
   "outputs": [],
   "source": [
    "#For extra practice, before digging into fitting models, we'll define a gender classifier\n",
    "#and see its accuracy and if it matches the gender_submission_data.\n",
    "\n",
    "class GenderClassifier(BaseEstimator):\n",
    "    def fit(self, X, y=None):\n",
    "        return self\n",
    "    def predict(self, X):\n",
    "        return (X['Sex_male'] == 0).astype(int)"
   ]
  },
  {
   "cell_type": "code",
   "execution_count": 25,
   "id": "55d96800",
   "metadata": {},
   "outputs": [
    {
     "data": {
      "text/plain": [
       "True"
      ]
     },
     "execution_count": 25,
     "metadata": {},
     "output_type": "execute_result"
    }
   ],
   "source": [
    "#Checks that the gender classifier does the correct thing on the training set:\n",
    "\n",
    "gender_classifier = GenderClassifier()\n",
    "gender_predictions_train = gender_classifier.predict(X_unscaled)\n",
    "gender_predictions_train.equals(1-X_unscaled['Sex_male'].astype(int))"
   ]
  },
  {
   "cell_type": "code",
   "execution_count": 26,
   "id": "0e37647f",
   "metadata": {},
   "outputs": [
    {
     "data": {
      "text/plain": [
       "True"
      ]
     },
     "execution_count": 26,
     "metadata": {},
     "output_type": "execute_result"
    }
   ],
   "source": [
    "#Checks that the predictions the gender classifier makes on the test set\n",
    "#match what's in the gender_submission_data:\n",
    "\n",
    "gender_predictions = gender_classifier.predict(test_data_unscaled)\n",
    "gender_submission_data['Survived'].equals(gender_predictions)"
   ]
  },
  {
   "cell_type": "code",
   "execution_count": 27,
   "id": "03dc7e21",
   "metadata": {},
   "outputs": [
    {
     "data": {
      "text/plain": [
       "0.7867564534231201"
      ]
     },
     "execution_count": 27,
     "metadata": {},
     "output_type": "execute_result"
    }
   ],
   "source": [
    "#Computes the accuracy of gender predictions on the training set:\n",
    "\n",
    "from sklearn.metrics import accuracy_score\n",
    "accuracy_score(y, gender_predictions_train)"
   ]
  },
  {
   "cell_type": "code",
   "execution_count": 28,
   "id": "b458bd6b",
   "metadata": {},
   "outputs": [
    {
     "data": {
      "text/plain": [
       "0.7654320987654321"
      ]
     },
     "execution_count": 28,
     "metadata": {},
     "output_type": "execute_result"
    }
   ],
   "source": [
    "#This doesn't mean a whole lot, but just to check things, this gives\n",
    "#the accuracy score for an sgd classifier:\n",
    "\n",
    "from sklearn.linear_model import SGDClassifier\n",
    "\n",
    "sgd_clf = SGDClassifier()\n",
    "sgd_clf.fit(X_scaled, y)\n",
    "sgd_predictions_train = sgd_clf.predict(X_scaled)\n",
    "accuracy_score(y, sgd_predictions_train)"
   ]
  },
  {
   "cell_type": "code",
   "execution_count": 29,
   "id": "87dd60d1",
   "metadata": {},
   "outputs": [
    {
     "data": {
      "text/plain": [
       "0.7609440713075136"
      ]
     },
     "execution_count": 29,
     "metadata": {},
     "output_type": "execute_result"
    }
   ],
   "source": [
    "#Mean cross-validation score for sgd classifier:\n",
    "\n",
    "from sklearn.model_selection import cross_val_score\n",
    "cross_val_score(sgd_clf, X_scaled, y, cv=5, scoring='accuracy').mean()"
   ]
  },
  {
   "cell_type": "code",
   "execution_count": 30,
   "id": "6a602c30",
   "metadata": {},
   "outputs": [
    {
     "data": {
      "text/plain": [
       "0.8114305442219573"
      ]
     },
     "execution_count": 30,
     "metadata": {},
     "output_type": "execute_result"
    }
   ],
   "source": [
    "#Gets mean cv score for logistic regression classifier:\n",
    "\n",
    "from sklearn.linear_model import LogisticRegression\n",
    "\n",
    "logistic_clf = LogisticRegression()\n",
    "cross_val_score(logistic_clf, X_scaled, y, cv=5, scoring='accuracy').mean()"
   ]
  },
  {
   "cell_type": "code",
   "execution_count": 31,
   "id": "8ebabe10",
   "metadata": {},
   "outputs": [
    {
     "name": "stdout",
     "output_type": "stream",
     "text": [
      "Best params: {'penalty': 'l1', 'solver': 'liblinear'}\n",
      "Score: 0.8148148148148149\n"
     ]
    }
   ],
   "source": [
    "#Does a grid search for logistic regression classifier:\n",
    "\n",
    "from sklearn.model_selection import GridSearchCV\n",
    "\n",
    "param_grid_logistic = [\n",
    "    {'solver': ['liblinear'], 'penalty': ['l1', 'l2']}\n",
    "]\n",
    "grid_search_logistic = GridSearchCV(logistic_clf, param_grid_logistic, cv=3,\n",
    "                          scoring='accuracy',\n",
    "                          return_train_score=False)\n",
    "\n",
    "grid_search_logistic.fit(X_scaled, y)\n",
    "\n",
    "print('Best params: ' + str(grid_search_logistic.best_params_))\n",
    "print('Score: ' + str(grid_search_logistic.best_score_))"
   ]
  },
  {
   "cell_type": "code",
   "execution_count": 32,
   "id": "73c8eb78",
   "metadata": {},
   "outputs": [],
   "source": [
    "final_model_lg = grid_search_logistic.best_estimator_\n",
    "\n",
    "test_predictions_lg = final_model_lg.predict(test_data_scaled)\n",
    "\n",
    "final_submission_lg = gender_submission_data.copy()\n",
    "final_submission_lg['Survived'] = test_predictions_lg\n",
    "\n",
    "final_submission_lg.to_csv('submission_lg.csv', index=False)"
   ]
  },
  {
   "cell_type": "code",
   "execution_count": 33,
   "id": "6b8b3236",
   "metadata": {},
   "outputs": [
    {
     "data": {
      "text/plain": [
       "0.7934904601571269"
      ]
     },
     "execution_count": 33,
     "metadata": {},
     "output_type": "execute_result"
    }
   ],
   "source": [
    "#Gets mean cv score for knn classifier:\n",
    "\n",
    "from sklearn.neighbors import KNeighborsClassifier\n",
    "\n",
    "knn_clf = KNeighborsClassifier()\n",
    "cross_val_score(knn_clf, X_scaled, y, cv=3, scoring='accuracy').mean()"
   ]
  },
  {
   "cell_type": "code",
   "execution_count": 34,
   "id": "2d9bd935",
   "metadata": {},
   "outputs": [
    {
     "name": "stdout",
     "output_type": "stream",
     "text": [
      "Best params: {'n_neighbors': 3, 'weights': 'uniform'}\n",
      "Score: 0.8013468013468014\n"
     ]
    }
   ],
   "source": [
    "#Does a grid search for knn classifier:\n",
    "\n",
    "param_grid_knn = {'n_neighbors': [2, 3, 4, 5, 6, 7], 'weights': ['distance', 'uniform']}\n",
    "\n",
    "from sklearn.model_selection import GridSearchCV\n",
    "\n",
    "grid_search_knn = GridSearchCV(knn_clf, param_grid_knn, cv=3,\n",
    "                          scoring='accuracy',\n",
    "                          return_train_score=False)\n",
    "\n",
    "grid_search_knn.fit(X_scaled, y)\n",
    "\n",
    "print('Best params: ' + str(grid_search_knn.best_params_))\n",
    "print('Score: ' + str(grid_search_knn.best_score_))"
   ]
  },
  {
   "cell_type": "code",
   "execution_count": 55,
   "id": "cf53af2e",
   "metadata": {},
   "outputs": [
    {
     "data": {
      "text/plain": [
       "0.8204264870931537"
      ]
     },
     "execution_count": 55,
     "metadata": {},
     "output_type": "execute_result"
    }
   ],
   "source": [
    "#Gets mean cv score for support vector classifier:\n",
    "\n",
    "from sklearn.svm import SVC\n",
    "sv_clf = SVC(probability=True)\n",
    "cross_val_score(sv_clf, X_scaled, y, cv=3, scoring='accuracy').mean()"
   ]
  },
  {
   "cell_type": "code",
   "execution_count": 36,
   "id": "e55cbfb4",
   "metadata": {},
   "outputs": [
    {
     "name": "stdout",
     "output_type": "stream",
     "text": [
      "Best params: {'C': 1000, 'gamma': 0.001, 'kernel': 'rbf'}\n",
      "Score: 0.8237934904601572\n"
     ]
    }
   ],
   "source": [
    "#Does a grid search for support vector classifier:\n",
    "\n",
    "param_grid_sv = [\n",
    "    {'gamma': ['auto']},\n",
    "    {'kernel': ['linear'], 'C': [1, 10, 100, 1000]},\n",
    "    {'kernel': ['rbf'], 'C': [1, 10, 100, 1000], 'gamma':[.001, .0001]},\n",
    "]\n",
    "\n",
    "grid_search_sv = GridSearchCV(sv_clf, param_grid_sv, cv=3,\n",
    "                          scoring='accuracy',\n",
    "                          return_train_score=False)\n",
    "\n",
    "grid_search_sv.fit(X_scaled, y)\n",
    "\n",
    "print('Best params: ' + str(grid_search_sv.best_params_))\n",
    "print('Score: ' + str(grid_search_sv.best_score_))"
   ]
  },
  {
   "cell_type": "code",
   "execution_count": 37,
   "id": "94c49a3f",
   "metadata": {},
   "outputs": [
    {
     "data": {
      "text/plain": [
       "0.7631874298540965"
      ]
     },
     "execution_count": 37,
     "metadata": {},
     "output_type": "execute_result"
    }
   ],
   "source": [
    "#Gets mean cv score for decision tree classifier:\n",
    "\n",
    "from sklearn.tree import DecisionTreeClassifier\n",
    "dt_clf = DecisionTreeClassifier()\n",
    "cross_val_score(dt_clf, X_scaled, y, cv=3, scoring='accuracy').mean()"
   ]
  },
  {
   "cell_type": "code",
   "execution_count": 38,
   "id": "55038fc5",
   "metadata": {},
   "outputs": [
    {
     "data": {
      "text/plain": [
       "0.8013468013468014"
      ]
     },
     "execution_count": 38,
     "metadata": {},
     "output_type": "execute_result"
    }
   ],
   "source": [
    "#Gets mean cv score for random forest classifier:\n",
    "\n",
    "from sklearn.ensemble import RandomForestClassifier\n",
    "rf_clf = RandomForestClassifier()\n",
    "cross_val_score(rf_clf, X_scaled, y, cv=3, scoring='accuracy').mean()"
   ]
  },
  {
   "cell_type": "code",
   "execution_count": 39,
   "id": "eb9b9929",
   "metadata": {},
   "outputs": [
    {
     "name": "stdout",
     "output_type": "stream",
     "text": [
      "Best params: {'max_depth': 5, 'n_estimators': 170}\n",
      "Score: 0.8316498316498316\n"
     ]
    }
   ],
   "source": [
    "#Does a grid search for random forest classifier:\n",
    "\n",
    "param_grid_rf = [\n",
    "    {'n_estimators': [170, 175, 180, 185, 190, 195], 'max_depth': [2, 3, 4, 5, 6]}\n",
    "]\n",
    "\n",
    "grid_search_rf = GridSearchCV(rf_clf, param_grid_rf, cv=3,\n",
    "                          scoring='accuracy',\n",
    "                          return_train_score=False)\n",
    "\n",
    "grid_search_rf.fit(X_scaled, y)\n",
    "\n",
    "print('Best params: ' + str(grid_search_rf.best_params_))\n",
    "print('Score: ' + str(grid_search_rf.best_score_))"
   ]
  },
  {
   "cell_type": "code",
   "execution_count": 40,
   "id": "98970600",
   "metadata": {},
   "outputs": [
    {
     "data": {
      "text/plain": [
       "[(0.2418273443035606, 'title_Mr'),\n",
       " (0.2018229652322192, 'Sex_male'),\n",
       " (0.0873533348640185, 'Pclass'),\n",
       " (0.08088765712986748, 'Fare'),\n",
       " (0.06098606229158106, 'title_Miss'),\n",
       " (0.059398071817205605, 'title_Mrs'),\n",
       " (0.05239905847712107, 'num_of_companions'),\n",
       " (0.04896638999405363, 'Age'),\n",
       " (0.033236401399108606, 'SibSp'),\n",
       " (0.0188922837268809, 'Parch'),\n",
       " (0.01592690558736966, 'cabin_letter_B'),\n",
       " (0.014337508984163904, 'Embarked_S'),\n",
       " (0.013810570771550592, 'title_Master'),\n",
       " (0.011371988023582332, 'cabin_letter_E'),\n",
       " (0.010945448816376145, 'Embarked_C'),\n",
       " (0.007182438581742083, 'cabin_letter_D'),\n",
       " (0.0067423811517899855, 'ticket_prefix_PC'),\n",
       " (0.005527188367660512, 'cabin_letter_C'),\n",
       " (0.003924282878462283, 'ticket_prefix_W./C.'),\n",
       " (0.003078116415964339, 'Embarked_Q'),\n",
       " (0.0027574783297747056, 'ticket_prefix_STON/O'),\n",
       " (0.0018797098454650483, 'title_Rev'),\n",
       " (0.0017184332568995597, 'ticket_prefix_S.O./P.P.'),\n",
       " (0.0017126476619659186, 'ticket_prefix_CA'),\n",
       " (0.001410085938881736, 'ticket_prefix_C.A.'),\n",
       " (0.0012924070577645193, 'ticket_prefix_F.C.C.'),\n",
       " (0.0011674716921866682, 'ticket_prefix_CA.'),\n",
       " (0.0011348883705717596, 'ticket_prefix_A/5.'),\n",
       " (0.0010685326047620422, 'cabin_letter_A'),\n",
       " (0.0008951504822824326, 'ticket_prefix_S.O.C.'),\n",
       " (0.0007840106927283983, 'ticket_prefix_C'),\n",
       " (0.0007635994739404103, 'cabin_letter_G'),\n",
       " (0.0007190271441821464, 'ticket_prefix_STON/O2.'),\n",
       " (0.0007025368235524139, 'cabin_letter_F'),\n",
       " (0.0006783648280176605, 'ticket_prefix_SOTON/O.Q.'),\n",
       " (0.0004930130547852747, 'ticket_prefix_PP'),\n",
       " (0.00047594932631534766, 'ticket_prefix_F.C.'),\n",
       " (0.0003461932292742245, 'ticket_prefix_SC/PARIS'),\n",
       " (0.0003135346492391987, 'ticket_prefix_SOTON/OQ'),\n",
       " (0.0002327759234667139, 'ticket_prefix_A/5'),\n",
       " (0.00021624839439604975, 'ticket_prefix_SC'),\n",
       " (0.00020662629693692599, 'ticket_prefix_S.C./PARIS'),\n",
       " (0.00015291701882920523, 'ticket_prefix_W.E.P.'),\n",
       " (0.00013789830778944144, 'ticket_prefix_SC/Paris'),\n",
       " (5.2446418135148636e-05, 'ticket_prefix_A/4'),\n",
       " (3.9660165815319486e-05, 'ticket_prefix_SC/AH'),\n",
       " (1.756343270940942e-05, 'ticket_prefix_A./5.'),\n",
       " (7.235456034508545e-06, 'ticket_prefix_A.5.'),\n",
       " (7.1953090192607415e-06, 'ticket_prefix_SOTON/O2')]"
      ]
     },
     "execution_count": 40,
     "metadata": {},
     "output_type": "execute_result"
    }
   ],
   "source": [
    "feature_importances = grid_search_rf.best_estimator_.feature_importances_\n",
    "sorted(zip(feature_importances, X_unscaled.columns), reverse=True)"
   ]
  },
  {
   "cell_type": "code",
   "execution_count": 41,
   "id": "1cdfb52b",
   "metadata": {},
   "outputs": [],
   "source": [
    "#Most of the above looks like it was useless, so this adds a piece of the pipeline\n",
    "#that removes the non-top n attributes (thus undoing a lot of the work above):\n",
    "\n",
    "n=10\n",
    "top = sorted(zip(feature_importances, X_unscaled.columns), reverse=True)[:n]\n",
    "top_attribs = [a[1] for a in top]\n",
    "\n",
    "class PareDown(BaseEstimator, TransformerMixin):\n",
    "    def fit(self, X, y=None):\n",
    "        return self\n",
    "    def transform(self, X):\n",
    "        X = X[top_attribs]\n",
    "        return X\n",
    "    \n",
    "pipeline_pared = Pipeline([\n",
    "    ('pipeline_unscaled', pipeline_unscaled),\n",
    "    ('pare_down', PareDown()),\n",
    "    ('std_scaler', StandardScaler())\n",
    "])"
   ]
  },
  {
   "cell_type": "code",
   "execution_count": 42,
   "id": "289a0ef1",
   "metadata": {},
   "outputs": [],
   "source": [
    "X = train_data.drop('Survived', axis=1)\n",
    "y = train_data['Survived']\n",
    "\n",
    "X2 = X.copy()\n",
    "test_data2 = test_data.copy()\n",
    "\n",
    "X_pared = pipeline_pared.fit_transform(X2)\n",
    "test_data_pared = pipeline_pared.transform(test_data2)"
   ]
  },
  {
   "cell_type": "code",
   "execution_count": 43,
   "id": "29106ac6",
   "metadata": {},
   "outputs": [
    {
     "name": "stdout",
     "output_type": "stream",
     "text": [
      "Best params: {'penalty': 'l2', 'solver': 'liblinear'}\n",
      "Score: 0.809203142536476\n"
     ]
    }
   ],
   "source": [
    "#Now we'll rerun the grid searches above with the three best models classes:\n",
    "#First, logistic regression:\n",
    "\n",
    "param_grid_logistic = [\n",
    "    {'solver': ['liblinear'], 'penalty': ['l1', 'l2']}\n",
    "]\n",
    "grid_search_logistic = GridSearchCV(logistic_clf, param_grid_logistic, cv=3,\n",
    "                          scoring='accuracy',\n",
    "                          return_train_score=False)\n",
    "\n",
    "grid_search_logistic.fit(X_pared, y)\n",
    "\n",
    "print('Best params: ' + str(grid_search_logistic.best_params_))\n",
    "print('Score: ' + str(grid_search_logistic.best_score_))"
   ]
  },
  {
   "cell_type": "code",
   "execution_count": 44,
   "id": "0955a0e4",
   "metadata": {},
   "outputs": [],
   "source": [
    "final_model_lg = grid_search_logistic.best_estimator_\n",
    "\n",
    "test_predictions_lg = final_model_lg.predict(test_data_pared)\n",
    "\n",
    "final_submission_lg = gender_submission_data.copy()\n",
    "final_submission_lg['Survived'] = test_predictions_lg\n",
    "\n",
    "final_submission_lg.to_csv('submission_lg.csv', index=False)"
   ]
  },
  {
   "cell_type": "code",
   "execution_count": 56,
   "id": "97f9a21e",
   "metadata": {},
   "outputs": [
    {
     "name": "stdout",
     "output_type": "stream",
     "text": [
      "Best params: {'gamma': 'auto'}\n",
      "Score: 0.8350168350168351\n"
     ]
    }
   ],
   "source": [
    "#Now support vector:\n",
    "\n",
    "param_grid_sv = [\n",
    "    {'gamma': ['auto']},\n",
    "    {'kernel': ['linear'], 'C': [1, 10, 100, 1000]},\n",
    "    {'kernel': ['rbf'], 'C': [1, 10, 100, 1000], 'gamma':[.001, .0001]},\n",
    "]\n",
    "\n",
    "grid_search_sv = GridSearchCV(sv_clf, param_grid_sv, cv=3,\n",
    "                          scoring='accuracy',\n",
    "                          return_train_score=False)\n",
    "\n",
    "grid_search_sv.fit(X_pared, y)\n",
    "\n",
    "print('Best params: ' + str(grid_search_sv.best_params_))\n",
    "print('Score: ' + str(grid_search_sv.best_score_))"
   ]
  },
  {
   "cell_type": "code",
   "execution_count": 57,
   "id": "5ea4353a",
   "metadata": {},
   "outputs": [],
   "source": [
    "final_model_sv = grid_search_sv.best_estimator_\n",
    "\n",
    "test_predictions_sv = final_model_sv.predict(test_data_pared)\n",
    "\n",
    "final_submission_sv = gender_submission_data.copy()\n",
    "final_submission_sv['Survived'] = test_predictions_sv\n",
    "\n",
    "final_submission_sv.to_csv('submission_sv.csv', index=False)"
   ]
  },
  {
   "cell_type": "code",
   "execution_count": 47,
   "id": "b198a48e",
   "metadata": {},
   "outputs": [
    {
     "name": "stdout",
     "output_type": "stream",
     "text": [
      "Best params: {'max_depth': 4, 'n_estimators': 180}\n",
      "Score: 0.8305274971941637\n"
     ]
    }
   ],
   "source": [
    "#Finally, random forest:\n",
    "\n",
    "param_grid_rf = [\n",
    "    {'n_estimators': [170, 175, 180, 185, 190, 195], 'max_depth': [2, 3, 4, 5, 6]}\n",
    "]\n",
    "\n",
    "grid_search_rf = GridSearchCV(rf_clf, param_grid_rf, cv=3,\n",
    "                          scoring='accuracy',\n",
    "                          return_train_score=False)\n",
    "\n",
    "grid_search_rf.fit(X_pared, y)\n",
    "\n",
    "print('Best params: ' + str(grid_search_rf.best_params_))\n",
    "print('Score: ' + str(grid_search_rf.best_score_))"
   ]
  },
  {
   "cell_type": "code",
   "execution_count": 48,
   "id": "58d631fe",
   "metadata": {},
   "outputs": [],
   "source": [
    "final_model_rf = grid_search_rf.best_estimator_\n",
    "\n",
    "test_predictions_rf = final_model_rf.predict(test_data_pared)\n",
    "\n",
    "final_submission_rf = gender_submission_data.copy()\n",
    "final_submission_rf['Survived'] = test_predictions_rf\n",
    "\n",
    "final_submission_rf.to_csv('submission_rf.csv', index=False)"
   ]
  },
  {
   "cell_type": "code",
   "execution_count": 49,
   "id": "6c01cb95",
   "metadata": {},
   "outputs": [
    {
     "name": "stdout",
     "output_type": "stream",
     "text": [
      "Best params: {'penalty': 'l1', 'solver': 'liblinear'}\n",
      "Score: 0.7890011223344556\n"
     ]
    }
   ],
   "source": [
    "#Just to see how it does, this trains and uses a logistic model, with some hand-picked attributes:\n",
    "\n",
    "attribs = ['Sex_male', 'Fare', 'Pclass', 'Age', 'num_of_companions']\n",
    "\n",
    "class VeryPareDown(BaseEstimator, TransformerMixin):\n",
    "    def fit(self, X, y=None):\n",
    "        return self\n",
    "    def transform(self, X):\n",
    "        X = X[attribs]\n",
    "        return X\n",
    "    \n",
    "pipeline_very_pared = Pipeline([\n",
    "    ('pipeline_unscaled', pipeline_unscaled),\n",
    "    ('very_pare_down', VeryPareDown()),\n",
    "    ('std_scaler', StandardScaler())\n",
    "])\n",
    "\n",
    "X = train_data.drop('Survived', axis=1)\n",
    "y = train_data['Survived']\n",
    "\n",
    "X2 = X.copy()\n",
    "test_data2 = test_data.copy()\n",
    "\n",
    "X_very_pared = pipeline_very_pared.fit_transform(X2)\n",
    "test_data_very_pared = pipeline_very_pared.transform(test_data2)\n",
    "\n",
    "param_grid_logistic = [\n",
    "    {'solver': ['liblinear'], 'penalty': ['l1', 'l2']}\n",
    "]\n",
    "grid_search_logistic = GridSearchCV(logistic_clf, param_grid_logistic, cv=3,\n",
    "                          scoring='accuracy',\n",
    "                          return_train_score=False)\n",
    "\n",
    "grid_search_logistic.fit(X_very_pared, y)\n",
    "\n",
    "print('Best params: ' + str(grid_search_logistic.best_params_))\n",
    "print('Score: ' + str(grid_search_logistic.best_score_))"
   ]
  },
  {
   "cell_type": "markdown",
   "id": "8c1263b0",
   "metadata": {},
   "source": [
    "The best one so far was a logistic reg model using the top 10 attributes: 0.79425 accuracy on the test set. Now we'll try a soft voting classifier using the best 10-attribute logistic, support vector, and random forest models."
   ]
  },
  {
   "cell_type": "code",
   "execution_count": 58,
   "id": "2efd8edb",
   "metadata": {},
   "outputs": [
    {
     "data": {
      "text/plain": [
       "0.8327721661054994"
      ]
     },
     "execution_count": 58,
     "metadata": {},
     "output_type": "execute_result"
    }
   ],
   "source": [
    "from sklearn.ensemble import VotingClassifier\n",
    "\n",
    "voting_clf = VotingClassifier(\n",
    "    estimators=[('lg', final_model_lg), ('sv', final_model_sv), ('rf', final_model_rf)],\n",
    "    voting='soft')\n",
    "\n",
    "cross_val_score(voting_clf, X_pared, y, cv=3, scoring='accuracy').mean()"
   ]
  },
  {
   "cell_type": "code",
   "execution_count": 60,
   "id": "ad041630",
   "metadata": {},
   "outputs": [],
   "source": [
    "voting_clf.fit(X_pared, y)\n",
    "\n",
    "test_predictions_voting = voting_clf.predict(test_data_pared)\n",
    "\n",
    "final_submission_voting = gender_submission_data.copy()\n",
    "final_submission_voting['Survived'] = test_predictions_voting\n",
    "\n",
    "final_submission_voting.to_csv('submission_voting.csv', index=False)"
   ]
  },
  {
   "cell_type": "markdown",
   "id": "93b79ac2",
   "metadata": {},
   "source": [
    "Ok, that did worse on the test set."
   ]
  },
  {
   "cell_type": "code",
   "execution_count": null,
   "id": "e90b01eb",
   "metadata": {},
   "outputs": [],
   "source": []
  }
 ],
 "metadata": {
  "kernelspec": {
   "display_name": "Python 3 (ipykernel)",
   "language": "python",
   "name": "python3"
  },
  "language_info": {
   "codemirror_mode": {
    "name": "ipython",
    "version": 3
   },
   "file_extension": ".py",
   "mimetype": "text/x-python",
   "name": "python",
   "nbconvert_exporter": "python",
   "pygments_lexer": "ipython3",
   "version": "3.9.5"
  }
 },
 "nbformat": 4,
 "nbformat_minor": 5
}
